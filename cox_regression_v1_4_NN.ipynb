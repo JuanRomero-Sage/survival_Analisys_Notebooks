{
 "cells": [
  {
   "cell_type": "markdown",
   "metadata": {},
   "source": [
    "### END experiment 11 March 2019 24:00 for weather calculations"
   ]
  },
  {
   "cell_type": "code",
   "execution_count": 1,
   "metadata": {},
   "outputs": [],
   "source": [
    "import pandas as pd\n",
    "pd.options.mode.chained_assignment = None\n",
    "import numpy as np\n",
    "import lifelines\n",
    "from lifelines.utils import datetimes_to_durations\n",
    "from lifelines import KaplanMeierFitter\n",
    "from lifelines import CoxPHFitter\n",
    "from sklearn.preprocessing import  LabelEncoder\n",
    "from sklearn.model_selection import train_test_split\n",
    "import lifelines as sa\n",
    "import datetime as dt\n",
    "import seaborn as sns\n",
    "import matplotlib.pyplot as plt\n",
    "import warnings\n",
    "import datetime\n",
    "import pickle\n",
    "warnings.filterwarnings('ignore')\n",
    "%matplotlib inline"
   ]
  },
  {
   "cell_type": "code",
   "execution_count": 2,
   "metadata": {},
   "outputs": [
    {
     "data": {
      "text/plain": [
       "Index(['event', 'T', 'ELR_enc', 'HLC_enc', 'Asset_Class_Grouping_enc',\n",
       "       'Grouping_Full_Name_enc', 'Engineering_Suffix_enc',\n",
       "       'System_Asset_Type_enc', 'EQUIP_CLASS_DESC_enc', 'weather_station',\n",
       "       'weather_station_enc', 'Sum', 'Asset_Number', 'birth', 'death', 'end_e',\n",
       "       'temp_min', 'temp_max', 'humidity_min', 'humidity_max', 'pressure_min',\n",
       "       'pressure_max', 'wind_speed_min', 'wind_speed_max'],\n",
       "      dtype='object')"
      ]
     },
     "execution_count": 2,
     "metadata": {},
     "output_type": "execute_result"
    }
   ],
   "source": [
    "df=pd.read_csv('coxr.csv')\n",
    "df.columns"
   ]
  },
  {
   "cell_type": "code",
   "execution_count": 3,
   "metadata": {},
   "outputs": [],
   "source": [
    "def save_dict_pickle(dict, file):\n",
    "    with open('./conf/'+file+'.pickle', 'wb') as handle:\n",
    "        pickle.dump(dict, handle)\n",
    "    return"
   ]
  },
  {
   "cell_type": "code",
   "execution_count": 4,
   "metadata": {},
   "outputs": [
    {
     "data": {
      "text/plain": [
       "940"
      ]
     },
     "execution_count": 4,
     "metadata": {},
     "output_type": "execute_result"
    }
   ],
   "source": [
    "len(df)"
   ]
  },
  {
   "cell_type": "code",
   "execution_count": 5,
   "metadata": {},
   "outputs": [],
   "source": [
    "data=df[['event', 'T', 'ELR_enc', 'HLC_enc', 'Asset_Class_Grouping_enc',\n",
    "       'Grouping_Full_Name_enc', 'Engineering_Suffix_enc',\n",
    "       'System_Asset_Type_enc', 'EQUIP_CLASS_DESC_enc',\n",
    "       'weather_station_enc', 'Sum', 'Asset_Number', \n",
    "       'temp_min', 'temp_max', 'humidity_min', 'humidity_max', 'pressure_min',\n",
    "       'pressure_max', 'wind_speed_min', 'wind_speed_max']]"
   ]
  },
  {
   "cell_type": "code",
   "execution_count": 6,
   "metadata": {},
   "outputs": [],
   "source": [
    "data.columns=['e', 't', 'ELR_enc', 'HLC_enc', 'Asset_Class_Grouping_enc',\n",
    "       'Grouping_Full_Name_enc', 'Engineering_Suffix_enc',\n",
    "       'System_Asset_Type_enc', 'EQUIP_CLASS_DESC_enc',\n",
    "       'weather_station_enc', 'Sum', 'Asset_Number', \n",
    "       'temp_min', 'temp_max', 'humidity_min', 'humidity_max', 'pressure_min',\n",
    "       'pressure_max', 'wind_speed_min', 'wind_speed_max']"
   ]
  },
  {
   "cell_type": "code",
   "execution_count": 7,
   "metadata": {},
   "outputs": [
    {
     "data": {
      "text/plain": [
       "e                           0\n",
       "t                           0\n",
       "ELR_enc                     0\n",
       "HLC_enc                     0\n",
       "Asset_Class_Grouping_enc    0\n",
       "Grouping_Full_Name_enc      0\n",
       "Engineering_Suffix_enc      0\n",
       "System_Asset_Type_enc       0\n",
       "EQUIP_CLASS_DESC_enc        0\n",
       "weather_station_enc         0\n",
       "Sum                         0\n",
       "Asset_Number                0\n",
       "temp_min                    0\n",
       "temp_max                    0\n",
       "humidity_min                0\n",
       "humidity_max                0\n",
       "pressure_min                0\n",
       "pressure_max                0\n",
       "wind_speed_min              0\n",
       "wind_speed_max              0\n",
       "dtype: int64"
      ]
     },
     "execution_count": 7,
     "metadata": {},
     "output_type": "execute_result"
    }
   ],
   "source": [
    "data.isnull().sum()"
   ]
  },
  {
   "cell_type": "code",
   "execution_count": 8,
   "metadata": {},
   "outputs": [],
   "source": [
    "columns=[ 'ELR_enc', 'HLC_enc', 'Asset_Class_Grouping_enc',\n",
    "       'Grouping_Full_Name_enc', 'Engineering_Suffix_enc',\n",
    "       'System_Asset_Type_enc', 'EQUIP_CLASS_DESC_enc',\n",
    "       'weather_station_enc', 'Sum', 'Asset_Number', \n",
    "       'temp_min', 'temp_max', 'humidity_min', 'humidity_max', 'pressure_min',\n",
    "       'pressure_max', 'wind_speed_min', 'wind_speed_max']"
   ]
  },
  {
   "cell_type": "code",
   "execution_count": 9,
   "metadata": {},
   "outputs": [],
   "source": [
    "def normalize(df, symbols):\n",
    "    result = df.copy()\n",
    "    values={}\n",
    "    for symbol in symbols:\n",
    "        max_value = df[symbol].max()\n",
    "        min_value = df[symbol].min()\n",
    "        mean_value= df[symbol].mean()\n",
    "        std_value= df[symbol].std()\n",
    "        print(symbol)\n",
    "        result[symbol] = (df[symbol] -mean_value) /std_value\n",
    "        data={}\n",
    "        data.update({'max': max_value, 'min':min_value, 'mean':mean_value, 'std':std_value})\n",
    "        \n",
    "\n",
    "        values.update({symbol:data})\n",
    "    return result, values"
   ]
  },
  {
   "cell_type": "code",
   "execution_count": 10,
   "metadata": {},
   "outputs": [
    {
     "name": "stdout",
     "output_type": "stream",
     "text": [
      "ELR_enc\n",
      "HLC_enc\n",
      "Asset_Class_Grouping_enc\n",
      "Grouping_Full_Name_enc\n",
      "Engineering_Suffix_enc\n",
      "System_Asset_Type_enc\n",
      "EQUIP_CLASS_DESC_enc\n",
      "weather_station_enc\n",
      "Sum\n",
      "Asset_Number\n",
      "temp_min\n",
      "temp_max\n",
      "humidity_min\n",
      "humidity_max\n",
      "pressure_min\n",
      "pressure_max\n",
      "wind_speed_min\n",
      "wind_speed_max\n"
     ]
    }
   ],
   "source": [
    "datan, dicc_values=normalize(data,columns)"
   ]
  },
  {
   "cell_type": "code",
   "execution_count": 11,
   "metadata": {},
   "outputs": [
    {
     "data": {
      "text/plain": [
       "{'ELR_enc': {'max': 29,\n",
       "  'min': 0,\n",
       "  'mean': 16.385106382978723,\n",
       "  'std': 8.197027402792536},\n",
       " 'HLC_enc': {'max': 3,\n",
       "  'min': 0,\n",
       "  'mean': 1.9531914893617022,\n",
       "  'std': 0.852197826066092},\n",
       " 'Asset_Class_Grouping_enc': {'max': 8,\n",
       "  'min': 0,\n",
       "  'mean': 5.3627659574468085,\n",
       "  'std': 1.9238143267761296},\n",
       " 'Grouping_Full_Name_enc': {'max': 9,\n",
       "  'min': 0,\n",
       "  'mean': 6.176595744680851,\n",
       "  'std': 2.1819974792246883},\n",
       " 'Engineering_Suffix_enc': {'max': 30,\n",
       "  'min': 0,\n",
       "  'mean': 17.914893617021278,\n",
       "  'std': 6.705519755868171},\n",
       " 'System_Asset_Type_enc': {'max': 103,\n",
       "  'min': 0,\n",
       "  'mean': 60.374468085106386,\n",
       "  'std': 29.04629236848901},\n",
       " 'EQUIP_CLASS_DESC_enc': {'max': 45,\n",
       "  'min': 0,\n",
       "  'mean': 27.708510638297874,\n",
       "  'std': 10.934217667044225},\n",
       " 'weather_station_enc': {'max': 4,\n",
       "  'min': 0,\n",
       "  'mean': 1.8904255319148937,\n",
       "  'std': 1.4042813850885107},\n",
       " 'Sum': {'max': 1672,\n",
       "  'min': 0,\n",
       "  'mean': 49.193617021276594,\n",
       "  'std': 113.98956831418307},\n",
       " 'Asset_Number': {'max': 18808004,\n",
       "  'min': 48075,\n",
       "  'mean': 2724590.279787234,\n",
       "  'std': 4027990.3915334675},\n",
       " 'temp_min': {'max': 286.51,\n",
       "  'min': 266.13,\n",
       "  'mean': 268.39907127659575,\n",
       "  'std': 3.6781708293479656},\n",
       " 'temp_max': {'max': 305.43,\n",
       "  'min': 275.37,\n",
       "  'mean': 299.5154074468085,\n",
       "  'std': 4.499301485834701},\n",
       " 'humidity_min': {'max': 100,\n",
       "  'min': 8,\n",
       "  'mean': 23.147872340425533,\n",
       "  'std': 11.043743295132145},\n",
       " 'humidity_max': {'max': 100,\n",
       "  'min': 82,\n",
       "  'mean': 99.91170212765958,\n",
       "  'std': 0.9512456250549048},\n",
       " 'pressure_min': {'max': 1022,\n",
       "  'min': 974,\n",
       "  'mean': 978.7393617021277,\n",
       "  'std': 6.591628570943228},\n",
       " 'pressure_max': {'max': 1045,\n",
       "  'min': 1001,\n",
       "  'mean': 1040.5925531914893,\n",
       "  'std': 6.195686076265816},\n",
       " 'wind_speed_min': {'max': 6,\n",
       "  'min': 0,\n",
       "  'mean': 0.031914893617021274,\n",
       "  'std': 0.32147581870860154},\n",
       " 'wind_speed_max': {'max': 21,\n",
       "  'min': 3,\n",
       "  'mean': 15.890425531914893,\n",
       "  'std': 2.168541131440916}}"
      ]
     },
     "execution_count": 11,
     "metadata": {},
     "output_type": "execute_result"
    }
   ],
   "source": [
    "dicc_values"
   ]
  },
  {
   "cell_type": "code",
   "execution_count": 12,
   "metadata": {},
   "outputs": [],
   "source": [
    "save_dict_pickle(dicc_values, 'AFI_factors_norm')"
   ]
  },
  {
   "cell_type": "code",
   "execution_count": 13,
   "metadata": {},
   "outputs": [
    {
     "data": {
      "text/html": [
       "<div>\n",
       "<style scoped>\n",
       "    .dataframe tbody tr th:only-of-type {\n",
       "        vertical-align: middle;\n",
       "    }\n",
       "\n",
       "    .dataframe tbody tr th {\n",
       "        vertical-align: top;\n",
       "    }\n",
       "\n",
       "    .dataframe thead th {\n",
       "        text-align: right;\n",
       "    }\n",
       "</style>\n",
       "<table border=\"1\" class=\"dataframe\">\n",
       "  <thead>\n",
       "    <tr style=\"text-align: right;\">\n",
       "      <th></th>\n",
       "      <th>e</th>\n",
       "      <th>t</th>\n",
       "      <th>ELR_enc</th>\n",
       "      <th>HLC_enc</th>\n",
       "      <th>Asset_Class_Grouping_enc</th>\n",
       "      <th>Grouping_Full_Name_enc</th>\n",
       "      <th>Engineering_Suffix_enc</th>\n",
       "      <th>System_Asset_Type_enc</th>\n",
       "      <th>EQUIP_CLASS_DESC_enc</th>\n",
       "      <th>weather_station_enc</th>\n",
       "      <th>Sum</th>\n",
       "      <th>Asset_Number</th>\n",
       "      <th>temp_min</th>\n",
       "      <th>temp_max</th>\n",
       "      <th>humidity_min</th>\n",
       "      <th>humidity_max</th>\n",
       "      <th>pressure_min</th>\n",
       "      <th>pressure_max</th>\n",
       "      <th>wind_speed_min</th>\n",
       "      <th>wind_speed_max</th>\n",
       "    </tr>\n",
       "  </thead>\n",
       "  <tbody>\n",
       "    <tr>\n",
       "      <th>0</th>\n",
       "      <td>0</td>\n",
       "      <td>267.106203</td>\n",
       "      <td>-1.510927</td>\n",
       "      <td>1.228363</td>\n",
       "      <td>1.370836</td>\n",
       "      <td>1.293954</td>\n",
       "      <td>0.907477</td>\n",
       "      <td>0.882231</td>\n",
       "      <td>1.124131</td>\n",
       "      <td>-0.634079</td>\n",
       "      <td>-0.431562</td>\n",
       "      <td>-0.664479</td>\n",
       "      <td>-0.573402</td>\n",
       "      <td>0.432199</td>\n",
       "      <td>-0.103939</td>\n",
       "      <td>0.092823</td>\n",
       "      <td>-0.415582</td>\n",
       "      <td>0.549971</td>\n",
       "      <td>-0.099276</td>\n",
       "      <td>0.511669</td>\n",
       "    </tr>\n",
       "    <tr>\n",
       "      <th>1</th>\n",
       "      <td>1</td>\n",
       "      <td>0.791435</td>\n",
       "      <td>-1.510927</td>\n",
       "      <td>1.228363</td>\n",
       "      <td>1.370836</td>\n",
       "      <td>1.293954</td>\n",
       "      <td>0.907477</td>\n",
       "      <td>0.882231</td>\n",
       "      <td>1.124131</td>\n",
       "      <td>-0.634079</td>\n",
       "      <td>-0.431562</td>\n",
       "      <td>-0.664478</td>\n",
       "      <td>0.728876</td>\n",
       "      <td>-2.486032</td>\n",
       "      <td>3.065277</td>\n",
       "      <td>0.092823</td>\n",
       "      <td>-0.263874</td>\n",
       "      <td>-1.386861</td>\n",
       "      <td>-0.099276</td>\n",
       "      <td>-2.255168</td>\n",
       "    </tr>\n",
       "    <tr>\n",
       "      <th>2</th>\n",
       "      <td>1</td>\n",
       "      <td>40.656933</td>\n",
       "      <td>-1.510927</td>\n",
       "      <td>1.228363</td>\n",
       "      <td>1.370836</td>\n",
       "      <td>1.293954</td>\n",
       "      <td>0.907477</td>\n",
       "      <td>0.882231</td>\n",
       "      <td>1.124131</td>\n",
       "      <td>-0.634079</td>\n",
       "      <td>-0.431562</td>\n",
       "      <td>-0.664478</td>\n",
       "      <td>0.949094</td>\n",
       "      <td>-1.423645</td>\n",
       "      <td>-0.828331</td>\n",
       "      <td>0.092823</td>\n",
       "      <td>-0.718997</td>\n",
       "      <td>-0.741250</td>\n",
       "      <td>-0.099276</td>\n",
       "      <td>0.511669</td>\n",
       "    </tr>\n",
       "    <tr>\n",
       "      <th>3</th>\n",
       "      <td>1</td>\n",
       "      <td>203.419444</td>\n",
       "      <td>-1.510927</td>\n",
       "      <td>1.228363</td>\n",
       "      <td>1.370836</td>\n",
       "      <td>1.293954</td>\n",
       "      <td>0.907477</td>\n",
       "      <td>0.882231</td>\n",
       "      <td>1.124131</td>\n",
       "      <td>-0.634079</td>\n",
       "      <td>-0.431562</td>\n",
       "      <td>-0.664478</td>\n",
       "      <td>0.182408</td>\n",
       "      <td>0.498876</td>\n",
       "      <td>-0.828331</td>\n",
       "      <td>0.092823</td>\n",
       "      <td>-0.718997</td>\n",
       "      <td>-0.741250</td>\n",
       "      <td>-0.099276</td>\n",
       "      <td>0.511669</td>\n",
       "    </tr>\n",
       "    <tr>\n",
       "      <th>4</th>\n",
       "      <td>0</td>\n",
       "      <td>443.199953</td>\n",
       "      <td>-1.510927</td>\n",
       "      <td>1.228363</td>\n",
       "      <td>1.370836</td>\n",
       "      <td>1.293954</td>\n",
       "      <td>0.907477</td>\n",
       "      <td>0.882231</td>\n",
       "      <td>1.124131</td>\n",
       "      <td>-0.634079</td>\n",
       "      <td>-0.431562</td>\n",
       "      <td>-0.664478</td>\n",
       "      <td>-0.573402</td>\n",
       "      <td>0.432199</td>\n",
       "      <td>-0.103939</td>\n",
       "      <td>0.092823</td>\n",
       "      <td>-0.415582</td>\n",
       "      <td>0.549971</td>\n",
       "      <td>-0.099276</td>\n",
       "      <td>0.511669</td>\n",
       "    </tr>\n",
       "    <tr>\n",
       "      <th>...</th>\n",
       "      <td>...</td>\n",
       "      <td>...</td>\n",
       "      <td>...</td>\n",
       "      <td>...</td>\n",
       "      <td>...</td>\n",
       "      <td>...</td>\n",
       "      <td>...</td>\n",
       "      <td>...</td>\n",
       "      <td>...</td>\n",
       "      <td>...</td>\n",
       "      <td>...</td>\n",
       "      <td>...</td>\n",
       "      <td>...</td>\n",
       "      <td>...</td>\n",
       "      <td>...</td>\n",
       "      <td>...</td>\n",
       "      <td>...</td>\n",
       "      <td>...</td>\n",
       "      <td>...</td>\n",
       "      <td>...</td>\n",
       "    </tr>\n",
       "    <tr>\n",
       "      <th>935</th>\n",
       "      <td>0</td>\n",
       "      <td>119.275650</td>\n",
       "      <td>-1.022945</td>\n",
       "      <td>0.054927</td>\n",
       "      <td>-0.188566</td>\n",
       "      <td>-0.080933</td>\n",
       "      <td>-0.583831</td>\n",
       "      <td>1.467503</td>\n",
       "      <td>-0.156254</td>\n",
       "      <td>0.078029</td>\n",
       "      <td>0.357983</td>\n",
       "      <td>3.965525</td>\n",
       "      <td>0.250377</td>\n",
       "      <td>-2.008180</td>\n",
       "      <td>0.348806</td>\n",
       "      <td>0.092823</td>\n",
       "      <td>0.039541</td>\n",
       "      <td>0.711373</td>\n",
       "      <td>-0.099276</td>\n",
       "      <td>-0.410610</td>\n",
       "    </tr>\n",
       "    <tr>\n",
       "      <th>936</th>\n",
       "      <td>0</td>\n",
       "      <td>402.408983</td>\n",
       "      <td>-1.510927</td>\n",
       "      <td>0.054927</td>\n",
       "      <td>0.851035</td>\n",
       "      <td>0.835658</td>\n",
       "      <td>0.161823</td>\n",
       "      <td>-0.598165</td>\n",
       "      <td>-0.887902</td>\n",
       "      <td>-0.634079</td>\n",
       "      <td>-0.431562</td>\n",
       "      <td>3.985484</td>\n",
       "      <td>-0.573402</td>\n",
       "      <td>0.432199</td>\n",
       "      <td>-0.103939</td>\n",
       "      <td>0.092823</td>\n",
       "      <td>-0.415582</td>\n",
       "      <td>0.549971</td>\n",
       "      <td>-0.099276</td>\n",
       "      <td>0.511669</td>\n",
       "    </tr>\n",
       "    <tr>\n",
       "      <th>937</th>\n",
       "      <td>0</td>\n",
       "      <td>405.978671</td>\n",
       "      <td>-0.534963</td>\n",
       "      <td>0.054927</td>\n",
       "      <td>0.851035</td>\n",
       "      <td>0.835658</td>\n",
       "      <td>0.161823</td>\n",
       "      <td>-0.598165</td>\n",
       "      <td>-0.887902</td>\n",
       "      <td>-0.634079</td>\n",
       "      <td>-0.396472</td>\n",
       "      <td>3.988413</td>\n",
       "      <td>-0.573402</td>\n",
       "      <td>0.432199</td>\n",
       "      <td>-0.103939</td>\n",
       "      <td>0.092823</td>\n",
       "      <td>-0.415582</td>\n",
       "      <td>0.549971</td>\n",
       "      <td>-0.099276</td>\n",
       "      <td>0.511669</td>\n",
       "    </tr>\n",
       "    <tr>\n",
       "      <th>938</th>\n",
       "      <td>0</td>\n",
       "      <td>301.725650</td>\n",
       "      <td>1.538960</td>\n",
       "      <td>0.054927</td>\n",
       "      <td>-0.188566</td>\n",
       "      <td>-0.080933</td>\n",
       "      <td>0.161823</td>\n",
       "      <td>0.193675</td>\n",
       "      <td>-0.064798</td>\n",
       "      <td>-0.634079</td>\n",
       "      <td>-0.405244</td>\n",
       "      <td>3.991966</td>\n",
       "      <td>-0.573402</td>\n",
       "      <td>0.432199</td>\n",
       "      <td>-0.103939</td>\n",
       "      <td>0.092823</td>\n",
       "      <td>-0.415582</td>\n",
       "      <td>0.549971</td>\n",
       "      <td>-0.099276</td>\n",
       "      <td>0.511669</td>\n",
       "    </tr>\n",
       "    <tr>\n",
       "      <th>939</th>\n",
       "      <td>0</td>\n",
       "      <td>412.106205</td>\n",
       "      <td>-0.290972</td>\n",
       "      <td>0.054927</td>\n",
       "      <td>-0.188566</td>\n",
       "      <td>-0.080933</td>\n",
       "      <td>1.205739</td>\n",
       "      <td>0.572381</td>\n",
       "      <td>1.215587</td>\n",
       "      <td>0.790137</td>\n",
       "      <td>-0.431562</td>\n",
       "      <td>3.992913</td>\n",
       "      <td>-0.578840</td>\n",
       "      <td>0.429976</td>\n",
       "      <td>-0.103939</td>\n",
       "      <td>0.092823</td>\n",
       "      <td>-0.567290</td>\n",
       "      <td>0.549971</td>\n",
       "      <td>-0.099276</td>\n",
       "      <td>0.511669</td>\n",
       "    </tr>\n",
       "  </tbody>\n",
       "</table>\n",
       "<p>940 rows × 20 columns</p>\n",
       "</div>"
      ],
      "text/plain": [
       "     e           t   ELR_enc   HLC_enc  Asset_Class_Grouping_enc  \\\n",
       "0    0  267.106203 -1.510927  1.228363                  1.370836   \n",
       "1    1    0.791435 -1.510927  1.228363                  1.370836   \n",
       "2    1   40.656933 -1.510927  1.228363                  1.370836   \n",
       "3    1  203.419444 -1.510927  1.228363                  1.370836   \n",
       "4    0  443.199953 -1.510927  1.228363                  1.370836   \n",
       "..  ..         ...       ...       ...                       ...   \n",
       "935  0  119.275650 -1.022945  0.054927                 -0.188566   \n",
       "936  0  402.408983 -1.510927  0.054927                  0.851035   \n",
       "937  0  405.978671 -0.534963  0.054927                  0.851035   \n",
       "938  0  301.725650  1.538960  0.054927                 -0.188566   \n",
       "939  0  412.106205 -0.290972  0.054927                 -0.188566   \n",
       "\n",
       "     Grouping_Full_Name_enc  Engineering_Suffix_enc  System_Asset_Type_enc  \\\n",
       "0                  1.293954                0.907477               0.882231   \n",
       "1                  1.293954                0.907477               0.882231   \n",
       "2                  1.293954                0.907477               0.882231   \n",
       "3                  1.293954                0.907477               0.882231   \n",
       "4                  1.293954                0.907477               0.882231   \n",
       "..                      ...                     ...                    ...   \n",
       "935               -0.080933               -0.583831               1.467503   \n",
       "936                0.835658                0.161823              -0.598165   \n",
       "937                0.835658                0.161823              -0.598165   \n",
       "938               -0.080933                0.161823               0.193675   \n",
       "939               -0.080933                1.205739               0.572381   \n",
       "\n",
       "     EQUIP_CLASS_DESC_enc  weather_station_enc       Sum  Asset_Number  \\\n",
       "0                1.124131            -0.634079 -0.431562     -0.664479   \n",
       "1                1.124131            -0.634079 -0.431562     -0.664478   \n",
       "2                1.124131            -0.634079 -0.431562     -0.664478   \n",
       "3                1.124131            -0.634079 -0.431562     -0.664478   \n",
       "4                1.124131            -0.634079 -0.431562     -0.664478   \n",
       "..                    ...                  ...       ...           ...   \n",
       "935             -0.156254             0.078029  0.357983      3.965525   \n",
       "936             -0.887902            -0.634079 -0.431562      3.985484   \n",
       "937             -0.887902            -0.634079 -0.396472      3.988413   \n",
       "938             -0.064798            -0.634079 -0.405244      3.991966   \n",
       "939              1.215587             0.790137 -0.431562      3.992913   \n",
       "\n",
       "     temp_min  temp_max  humidity_min  humidity_max  pressure_min  \\\n",
       "0   -0.573402  0.432199     -0.103939      0.092823     -0.415582   \n",
       "1    0.728876 -2.486032      3.065277      0.092823     -0.263874   \n",
       "2    0.949094 -1.423645     -0.828331      0.092823     -0.718997   \n",
       "3    0.182408  0.498876     -0.828331      0.092823     -0.718997   \n",
       "4   -0.573402  0.432199     -0.103939      0.092823     -0.415582   \n",
       "..        ...       ...           ...           ...           ...   \n",
       "935  0.250377 -2.008180      0.348806      0.092823      0.039541   \n",
       "936 -0.573402  0.432199     -0.103939      0.092823     -0.415582   \n",
       "937 -0.573402  0.432199     -0.103939      0.092823     -0.415582   \n",
       "938 -0.573402  0.432199     -0.103939      0.092823     -0.415582   \n",
       "939 -0.578840  0.429976     -0.103939      0.092823     -0.567290   \n",
       "\n",
       "     pressure_max  wind_speed_min  wind_speed_max  \n",
       "0        0.549971       -0.099276        0.511669  \n",
       "1       -1.386861       -0.099276       -2.255168  \n",
       "2       -0.741250       -0.099276        0.511669  \n",
       "3       -0.741250       -0.099276        0.511669  \n",
       "4        0.549971       -0.099276        0.511669  \n",
       "..            ...             ...             ...  \n",
       "935      0.711373       -0.099276       -0.410610  \n",
       "936      0.549971       -0.099276        0.511669  \n",
       "937      0.549971       -0.099276        0.511669  \n",
       "938      0.549971       -0.099276        0.511669  \n",
       "939      0.549971       -0.099276        0.511669  \n",
       "\n",
       "[940 rows x 20 columns]"
      ]
     },
     "execution_count": 13,
     "metadata": {},
     "output_type": "execute_result"
    }
   ],
   "source": [
    "datan"
   ]
  },
  {
   "cell_type": "code",
   "execution_count": 14,
   "metadata": {},
   "outputs": [],
   "source": [
    "datax=datan.drop_duplicates(subset=['Asset_Number'], keep='last', )"
   ]
  },
  {
   "cell_type": "code",
   "execution_count": 15,
   "metadata": {},
   "outputs": [
    {
     "data": {
      "text/plain": [
       "637"
      ]
     },
     "execution_count": 15,
     "metadata": {},
     "output_type": "execute_result"
    }
   ],
   "source": [
    "len(datax)"
   ]
  },
  {
   "cell_type": "code",
   "execution_count": 16,
   "metadata": {},
   "outputs": [
    {
     "data": {
      "text/plain": [
       "e                           0\n",
       "t                           0\n",
       "ELR_enc                     0\n",
       "HLC_enc                     0\n",
       "Asset_Class_Grouping_enc    0\n",
       "Grouping_Full_Name_enc      0\n",
       "Engineering_Suffix_enc      0\n",
       "System_Asset_Type_enc       0\n",
       "EQUIP_CLASS_DESC_enc        0\n",
       "weather_station_enc         0\n",
       "Sum                         0\n",
       "Asset_Number                0\n",
       "temp_min                    0\n",
       "temp_max                    0\n",
       "humidity_min                0\n",
       "humidity_max                0\n",
       "pressure_min                0\n",
       "pressure_max                0\n",
       "wind_speed_min              0\n",
       "wind_speed_max              0\n",
       "dtype: int64"
      ]
     },
     "execution_count": 16,
     "metadata": {},
     "output_type": "execute_result"
    }
   ],
   "source": [
    "datan.isnull().sum()"
   ]
  },
  {
   "cell_type": "code",
   "execution_count": 17,
   "metadata": {},
   "outputs": [],
   "source": [
    "datan.to_csv('./data/data_afi.csv', index=False)"
   ]
  },
  {
   "cell_type": "code",
   "execution_count": 18,
   "metadata": {},
   "outputs": [],
   "source": [
    "train_data, test_data = train_test_split(datan, shuffle =True, test_size =.05)"
   ]
  },
  {
   "cell_type": "code",
   "execution_count": 19,
   "metadata": {},
   "outputs": [
    {
     "data": {
      "text/plain": [
       "((893, 20), (47, 20))"
      ]
     },
     "execution_count": 19,
     "metadata": {},
     "output_type": "execute_result"
    }
   ],
   "source": [
    "train_data.shape, test_data.shape"
   ]
  },
  {
   "cell_type": "code",
   "execution_count": 20,
   "metadata": {},
   "outputs": [],
   "source": [
    "from tfdeepsurv.datasets import survival_stats\n",
    "\n",
    "# specify the colnames of observed status and time in your dataset\n",
    "colname_e = 'e'\n",
    "colname_t = 't'"
   ]
  },
  {
   "cell_type": "code",
   "execution_count": 21,
   "metadata": {},
   "outputs": [
    {
     "name": "stdout",
     "output_type": "stream",
     "text": [
      "--------------- Survival Data Statistics ---------------\n",
      "# Rows: 893\n",
      "# Columns: 18 + e + t\n",
      "# Events Ratio: 0.32%\n",
      "# Min Time: 0.041666667000000004\n",
      "# Max Time: 799.324942\n",
      "\n"
     ]
    },
    {
     "data": {
      "text/plain": [
       "<Figure size 864x864 with 0 Axes>"
      ]
     },
     "metadata": {},
     "output_type": "display_data"
    },
    {
     "data": {
      "image/png": "[encoded data removed]",
      "text/plain": [
       "<Figure size 432x288 with 2 Axes>"
      ]
     },
     "metadata": {
      "needs_background": "light"
     },
     "output_type": "display_data"
    }
   ],
   "source": [
    "plt.figure(figsize=(12,12))\n",
    "survival_stats(train_data, t_col=colname_t, e_col=colname_e, plot=True)"
   ]
  },
  {
   "cell_type": "code",
   "execution_count": 22,
   "metadata": {},
   "outputs": [
    {
     "name": "stdout",
     "output_type": "stream",
     "text": [
      "--------------- Survival Data Statistics ---------------\n",
      "# Rows: 47\n",
      "# Columns: 18 + e + t\n",
      "# Events Ratio: 0.28%\n",
      "# Min Time: 5.0\n",
      "# Max Time: 797.9990052\n",
      "\n"
     ]
    },
    {
     "data": {
      "text/plain": [
       "<Figure size 864x864 with 0 Axes>"
      ]
     },
     "metadata": {},
     "output_type": "display_data"
    },
    {
     "data": {
      "image/png": "[encoded data removed]",
      "text/plain": [
       "<Figure size 432x288 with 2 Axes>"
      ]
     },
     "metadata": {
      "needs_background": "light"
     },
     "output_type": "display_data"
    }
   ],
   "source": [
    "plt.figure(figsize=(12,12))\n",
    "survival_stats(test_data, t_col=colname_t, e_col=colname_e, plot=True)"
   ]
  },
  {
   "cell_type": "code",
   "execution_count": 23,
   "metadata": {},
   "outputs": [
    {
     "data": {
      "text/html": [
       "<div>\n",
       "<style scoped>\n",
       "    .dataframe tbody tr th:only-of-type {\n",
       "        vertical-align: middle;\n",
       "    }\n",
       "\n",
       "    .dataframe tbody tr th {\n",
       "        vertical-align: top;\n",
       "    }\n",
       "\n",
       "    .dataframe thead th {\n",
       "        text-align: right;\n",
       "    }\n",
       "</style>\n",
       "<table border=\"1\" class=\"dataframe\">\n",
       "  <thead>\n",
       "    <tr style=\"text-align: right;\">\n",
       "      <th></th>\n",
       "      <th>ELR_enc</th>\n",
       "      <th>HLC_enc</th>\n",
       "      <th>Asset_Class_Grouping_enc</th>\n",
       "      <th>Grouping_Full_Name_enc</th>\n",
       "      <th>Engineering_Suffix_enc</th>\n",
       "      <th>System_Asset_Type_enc</th>\n",
       "      <th>EQUIP_CLASS_DESC_enc</th>\n",
       "      <th>weather_station_enc</th>\n",
       "      <th>Sum</th>\n",
       "      <th>Asset_Number</th>\n",
       "      <th>temp_min</th>\n",
       "      <th>temp_max</th>\n",
       "      <th>humidity_min</th>\n",
       "      <th>humidity_max</th>\n",
       "      <th>pressure_min</th>\n",
       "      <th>pressure_max</th>\n",
       "      <th>wind_speed_min</th>\n",
       "      <th>wind_speed_max</th>\n",
       "      <th>Y</th>\n",
       "    </tr>\n",
       "  </thead>\n",
       "  <tbody>\n",
       "    <tr>\n",
       "      <th>503</th>\n",
       "      <td>0.684991</td>\n",
       "      <td>-1.118510</td>\n",
       "      <td>-0.708367</td>\n",
       "      <td>-0.539229</td>\n",
       "      <td>-0.434701</td>\n",
       "      <td>-0.667020</td>\n",
       "      <td>-0.796446</td>\n",
       "      <td>0.078029</td>\n",
       "      <td>0.612393</td>\n",
       "      <td>-0.314163</td>\n",
       "      <td>-0.407287</td>\n",
       "      <td>0.429976</td>\n",
       "      <td>-0.194488</td>\n",
       "      <td>0.092823</td>\n",
       "      <td>0.039541</td>\n",
       "      <td>0.711373</td>\n",
       "      <td>-0.099276</td>\n",
       "      <td>-0.410610</td>\n",
       "      <td>-374.598565</td>\n",
       "    </tr>\n",
       "    <tr>\n",
       "      <th>420</th>\n",
       "      <td>-0.534963</td>\n",
       "      <td>-1.118510</td>\n",
       "      <td>-0.708367</td>\n",
       "      <td>-0.539229</td>\n",
       "      <td>-0.434701</td>\n",
       "      <td>-0.667020</td>\n",
       "      <td>-0.796446</td>\n",
       "      <td>-0.634079</td>\n",
       "      <td>0.700120</td>\n",
       "      <td>-0.367157</td>\n",
       "      <td>-0.491840</td>\n",
       "      <td>-0.414599</td>\n",
       "      <td>1.344845</td>\n",
       "      <td>0.092823</td>\n",
       "      <td>-0.415582</td>\n",
       "      <td>-0.741250</td>\n",
       "      <td>-0.099276</td>\n",
       "      <td>0.511669</td>\n",
       "      <td>192.156250</td>\n",
       "    </tr>\n",
       "    <tr>\n",
       "      <th>576</th>\n",
       "      <td>-1.510927</td>\n",
       "      <td>0.054927</td>\n",
       "      <td>0.851035</td>\n",
       "      <td>0.835658</td>\n",
       "      <td>1.354870</td>\n",
       "      <td>1.295364</td>\n",
       "      <td>-0.887902</td>\n",
       "      <td>-0.634079</td>\n",
       "      <td>-0.414017</td>\n",
       "      <td>-0.224251</td>\n",
       "      <td>-0.573402</td>\n",
       "      <td>0.432199</td>\n",
       "      <td>-0.103939</td>\n",
       "      <td>0.092823</td>\n",
       "      <td>-0.415582</td>\n",
       "      <td>0.549971</td>\n",
       "      <td>-0.099276</td>\n",
       "      <td>0.511669</td>\n",
       "      <td>-309.508982</td>\n",
       "    </tr>\n",
       "    <tr>\n",
       "      <th>855</th>\n",
       "      <td>0.684991</td>\n",
       "      <td>-1.118510</td>\n",
       "      <td>-1.747968</td>\n",
       "      <td>-1.914116</td>\n",
       "      <td>-1.478617</td>\n",
       "      <td>-1.217865</td>\n",
       "      <td>-1.345182</td>\n",
       "      <td>0.078029</td>\n",
       "      <td>1.700212</td>\n",
       "      <td>1.848375</td>\n",
       "      <td>0.255814</td>\n",
       "      <td>-2.563822</td>\n",
       "      <td>2.884179</td>\n",
       "      <td>0.092823</td>\n",
       "      <td>-0.112167</td>\n",
       "      <td>-0.741250</td>\n",
       "      <td>-0.099276</td>\n",
       "      <td>-0.410610</td>\n",
       "      <td>106.222222</td>\n",
       "    </tr>\n",
       "    <tr>\n",
       "      <th>834</th>\n",
       "      <td>1.538960</td>\n",
       "      <td>0.054927</td>\n",
       "      <td>-0.188566</td>\n",
       "      <td>-0.080933</td>\n",
       "      <td>0.161823</td>\n",
       "      <td>0.193675</td>\n",
       "      <td>-0.064798</td>\n",
       "      <td>0.790137</td>\n",
       "      <td>-0.194699</td>\n",
       "      <td>1.279553</td>\n",
       "      <td>3.064275</td>\n",
       "      <td>-2.597160</td>\n",
       "      <td>3.880218</td>\n",
       "      <td>0.092823</td>\n",
       "      <td>1.101494</td>\n",
       "      <td>-4.130705</td>\n",
       "      <td>-0.099276</td>\n",
       "      <td>-1.794029</td>\n",
       "      <td>5.000000</td>\n",
       "    </tr>\n",
       "  </tbody>\n",
       "</table>\n",
       "</div>"
      ],
      "text/plain": [
       "      ELR_enc   HLC_enc  Asset_Class_Grouping_enc  Grouping_Full_Name_enc  \\\n",
       "503  0.684991 -1.118510                 -0.708367               -0.539229   \n",
       "420 -0.534963 -1.118510                 -0.708367               -0.539229   \n",
       "576 -1.510927  0.054927                  0.851035                0.835658   \n",
       "855  0.684991 -1.118510                 -1.747968               -1.914116   \n",
       "834  1.538960  0.054927                 -0.188566               -0.080933   \n",
       "\n",
       "     Engineering_Suffix_enc  System_Asset_Type_enc  EQUIP_CLASS_DESC_enc  \\\n",
       "503               -0.434701              -0.667020             -0.796446   \n",
       "420               -0.434701              -0.667020             -0.796446   \n",
       "576                1.354870               1.295364             -0.887902   \n",
       "855               -1.478617              -1.217865             -1.345182   \n",
       "834                0.161823               0.193675             -0.064798   \n",
       "\n",
       "     weather_station_enc       Sum  Asset_Number  temp_min  temp_max  \\\n",
       "503             0.078029  0.612393     -0.314163 -0.407287  0.429976   \n",
       "420            -0.634079  0.700120     -0.367157 -0.491840 -0.414599   \n",
       "576            -0.634079 -0.414017     -0.224251 -0.573402  0.432199   \n",
       "855             0.078029  1.700212      1.848375  0.255814 -2.563822   \n",
       "834             0.790137 -0.194699      1.279553  3.064275 -2.597160   \n",
       "\n",
       "     humidity_min  humidity_max  pressure_min  pressure_max  wind_speed_min  \\\n",
       "503     -0.194488      0.092823      0.039541      0.711373       -0.099276   \n",
       "420      1.344845      0.092823     -0.415582     -0.741250       -0.099276   \n",
       "576     -0.103939      0.092823     -0.415582      0.549971       -0.099276   \n",
       "855      2.884179      0.092823     -0.112167     -0.741250       -0.099276   \n",
       "834      3.880218      0.092823      1.101494     -4.130705       -0.099276   \n",
       "\n",
       "     wind_speed_max           Y  \n",
       "503       -0.410610 -374.598565  \n",
       "420        0.511669  192.156250  \n",
       "576        0.511669 -309.508982  \n",
       "855       -0.410610  106.222222  \n",
       "834       -1.794029    5.000000  "
      ]
     },
     "execution_count": 23,
     "metadata": {},
     "output_type": "execute_result"
    }
   ],
   "source": [
    "from tfdeepsurv.datasets import survival_df\n",
    "\n",
    "surv_train = survival_df(train_data, t_col=colname_t, e_col=colname_e, label_col=\"Y\")\n",
    "surv_test = survival_df(test_data, t_col=colname_t, e_col=colname_e, label_col=\"Y\")\n",
    "\n",
    "# columns 't' and 'e' are packed into an new column 'Y'\n",
    "surv_train.head()"
   ]
  },
  {
   "cell_type": "code",
   "execution_count": 24,
   "metadata": {},
   "outputs": [],
   "source": [
    "surv_final = survival_df(datax, t_col=colname_t, e_col=colname_e, label_col=\"Y\")"
   ]
  },
  {
   "cell_type": "code",
   "execution_count": 25,
   "metadata": {},
   "outputs": [
    {
     "data": {
      "text/plain": [
       "ELR_enc                     0\n",
       "HLC_enc                     0\n",
       "Asset_Class_Grouping_enc    0\n",
       "Grouping_Full_Name_enc      0\n",
       "Engineering_Suffix_enc      0\n",
       "System_Asset_Type_enc       0\n",
       "EQUIP_CLASS_DESC_enc        0\n",
       "weather_station_enc         0\n",
       "Sum                         0\n",
       "Asset_Number                0\n",
       "temp_min                    0\n",
       "temp_max                    0\n",
       "humidity_min                0\n",
       "humidity_max                0\n",
       "pressure_min                0\n",
       "pressure_max                0\n",
       "wind_speed_min              0\n",
       "wind_speed_max              0\n",
       "Y                           0\n",
       "dtype: int64"
      ]
     },
     "execution_count": 25,
     "metadata": {},
     "output_type": "execute_result"
    }
   ],
   "source": [
    "surv_test.isnull().sum()"
   ]
  },
  {
   "cell_type": "code",
   "execution_count": 26,
   "metadata": {},
   "outputs": [
    {
     "data": {
      "text/plain": [
       "ELR_enc                     0\n",
       "HLC_enc                     0\n",
       "Asset_Class_Grouping_enc    0\n",
       "Grouping_Full_Name_enc      0\n",
       "Engineering_Suffix_enc      0\n",
       "System_Asset_Type_enc       0\n",
       "EQUIP_CLASS_DESC_enc        0\n",
       "weather_station_enc         0\n",
       "Sum                         0\n",
       "Asset_Number                0\n",
       "temp_min                    0\n",
       "temp_max                    0\n",
       "humidity_min                0\n",
       "humidity_max                0\n",
       "pressure_min                0\n",
       "pressure_max                0\n",
       "wind_speed_min              0\n",
       "wind_speed_max              0\n",
       "Y                           0\n",
       "dtype: int64"
      ]
     },
     "execution_count": 26,
     "metadata": {},
     "output_type": "execute_result"
    }
   ],
   "source": [
    "surv_train.isnull().sum()"
   ]
  },
  {
   "cell_type": "code",
   "execution_count": 27,
   "metadata": {},
   "outputs": [],
   "source": [
    "import tensorflow as tf"
   ]
  },
  {
   "cell_type": "code",
   "execution_count": 54,
   "metadata": {},
   "outputs": [],
   "source": [
    "tf.reset_default_graph()"
   ]
  },
  {
   "cell_type": "code",
   "execution_count": 28,
   "metadata": {},
   "outputs": [
    {
     "name": "stdout",
     "output_type": "stream",
     "text": [
      "WARNING:tensorflow:From F:\\Dropbox\\py_projects\\survival\\tfdeepsurv\\dsl.py:48: The name tf.set_random_seed is deprecated. Please use tf.compat.v1.set_random_seed instead.\n",
      "\n",
      "WARNING:tensorflow:From F:\\Dropbox\\py_projects\\survival\\tfdeepsurv\\dsl.py:50: The name tf.get_variable is deprecated. Please use tf.compat.v1.get_variable instead.\n",
      "\n",
      "WARNING:tensorflow:From F:\\Dropbox\\py_projects\\survival\\tfdeepsurv\\dsl.py:51: The name tf.placeholder is deprecated. Please use tf.compat.v1.placeholder instead.\n",
      "\n",
      "WARNING:tensorflow:From F:\\Dropbox\\py_projects\\survival\\tfdeepsurv\\dsl.py:59: The name tf.variable_scope is deprecated. Please use tf.compat.v1.variable_scope instead.\n",
      "\n",
      "WARNING:tensorflow:From F:\\Dropbox\\py_projects\\survival\\tfdeepsurv\\dsl.py:59: The name tf.AUTO_REUSE is deprecated. Please use tf.compat.v1.AUTO_REUSE instead.\n",
      "\n",
      "WARNING:tensorflow:From F:\\Dropbox\\py_projects\\survival\\tfdeepsurv\\dsl.py:69: The name tf.add_to_collection is deprecated. Please use tf.compat.v1.add_to_collection instead.\n",
      "\n",
      "WARNING:tensorflow:From F:\\Dropbox\\py_projects\\survival\\tfdeepsurv\\dsl.py:72: calling dropout (from tensorflow.python.ops.nn_ops) with keep_prob is deprecated and will be removed in a future version.\n",
      "Instructions for updating:\n",
      "Please use `rate` instead of `keep_prob`. Rate should be set to `rate = 1 - keep_prob`.\n",
      "WARNING:tensorflow:From F:\\Dropbox\\py_projects\\survival\\tfdeepsurv\\dsl.py:116: The name tf.log is deprecated. Please use tf.math.log instead.\n",
      "\n",
      "WARNING:tensorflow:From F:\\Dropbox\\py_projects\\survival\\tfdeepsurv\\dsl.py:123: The name tf.segment_max is deprecated. Please use tf.math.segment_max instead.\n",
      "\n",
      "WARNING:tensorflow:From F:\\Dropbox\\py_projects\\survival\\tfdeepsurv\\dsl.py:125: The name tf.segment_sum is deprecated. Please use tf.math.segment_sum instead.\n",
      "\n",
      "WARNING:tensorflow:\n",
      "The TensorFlow contrib module will not be included in TensorFlow 2.0.\n",
      "For more information, please see:\n",
      "  * https://github.com/tensorflow/community/blob/master/rfcs/20180907-contrib-sunset.md\n",
      "  * https://github.com/tensorflow/addons\n",
      "  * https://github.com/tensorflow/io (for I/O related ops)\n",
      "If you depend on functionality not listed there, please file an issue.\n",
      "\n",
      "WARNING:tensorflow:From F:\\Dropbox\\py_projects\\survival\\tfdeepsurv\\dsl.py:135: The name tf.get_collection is deprecated. Please use tf.compat.v1.get_collection instead.\n",
      "\n",
      "WARNING:tensorflow:From F:\\Dropbox\\py_projects\\survival\\tfdeepsurv\\dsl.py:146: The name tf.train.exponential_decay is deprecated. Please use tf.compat.v1.train.exponential_decay instead.\n",
      "\n",
      "WARNING:tensorflow:From F:\\Dropbox\\py_projects\\survival\\tfdeepsurv\\dsl.py:152: The name tf.train.GradientDescentOptimizer is deprecated. Please use tf.compat.v1.train.GradientDescentOptimizer instead.\n",
      "\n",
      "WARNING:tensorflow:From C:\\Users\\olono\\AppData\\Local\\conda\\conda\\envs\\afi\\lib\\site-packages\\tensorflow_core\\python\\ops\\math_grad.py:383: where (from tensorflow.python.ops.array_ops) is deprecated and will be removed in a future version.\n",
      "Instructions for updating:\n",
      "Use tf.where in 2.0, which has the same broadcast rule as np.where\n",
      "WARNING:tensorflow:From F:\\Dropbox\\py_projects\\survival\\tfdeepsurv\\dsl.py:167: The name tf.Session is deprecated. Please use tf.compat.v1.Session instead.\n",
      "\n"
     ]
    }
   ],
   "source": [
    "from tfdeepsurv import dsnn\n",
    "\n",
    "# Number of features in your dataset\n",
    "input_nodes = len(surv_train.columns) - 1\n",
    "# Specify your neural network structure\n",
    "hidden_layers_nodes = [6, 3, 1]\n",
    "\n",
    "# the arguments of dsnn can be obtained by Bayesian Hyperparameters Tuning.\n",
    "# It would affect your model performance largely!\n",
    "nn_config = {\n",
    "    \"learning_rate\": 0.07,\n",
    "    \"learning_rate_decay\": 1.0,\n",
    "    \"activation\": 'tanh', \n",
    "    \"L1_reg\": 3.4e-5, \n",
    "    \"L2_reg\": 8.8e-5, \n",
    "    \"optimizer\": 'sgd',\n",
    "    \"dropout_keep_prob\": 1.0,\n",
    "    \"seed\": 1\n",
    "}\n",
    "\n",
    "# ESSENTIAL STEP-1: Pass arguments\n",
    "model = dsnn(\n",
    "    input_nodes, \n",
    "    hidden_layers_nodes,\n",
    "    nn_config\n",
    ")\n",
    "\n",
    "# ESSENTIAL STEP-2: Build Computation Graph\n",
    "model.build_graph()"
   ]
  },
  {
   "cell_type": "code",
   "execution_count": 29,
   "metadata": {},
   "outputs": [],
   "source": [
    "import os"
   ]
  },
  {
   "cell_type": "code",
   "execution_count": 30,
   "metadata": {},
   "outputs": [],
   "source": [
    "checkpoint_path = \"model/cp.ckpt\"\n",
    "checkpoint_dir = os.path.dirname(checkpoint_path)"
   ]
  },
  {
   "cell_type": "code",
   "execution_count": 31,
   "metadata": {},
   "outputs": [],
   "source": [
    "# Create a callback that saves the model's weights\n",
    "cp_callback = tf.keras.callbacks.ModelCheckpoint(filepath=checkpoint_path,\n",
    "                                                 save_weights_only=True,\n",
    "                                                 verbose=1)\n"
   ]
  },
  {
   "cell_type": "code",
   "execution_count": 32,
   "metadata": {},
   "outputs": [
    {
     "name": "stdout",
     "output_type": "stream",
     "text": [
      "WARNING:tensorflow:From F:\\Dropbox\\py_projects\\survival\\tfdeepsurv\\dsl.py:213: The name tf.global_variables_initializer is deprecated. Please use tf.compat.v1.global_variables_initializer instead.\n",
      "\n",
      "Average loss at step 100: 6.16581\n",
      "Average loss at step 200: 5.35876\n",
      "Average loss at step 300: 5.33213\n",
      "Average loss at step 400: 5.32703\n",
      "Average loss at step 500: 5.32502\n",
      "Average loss at step 600: 5.32395\n",
      "Average loss at step 700: 5.32330\n",
      "Average loss at step 800: 5.32286\n",
      "Average loss at step 900: 5.32254\n",
      "Average loss at step 1000: 5.32230\n",
      "Average loss at step 1100: 5.32211\n",
      "Average loss at step 1200: 5.32197\n",
      "Average loss at step 1300: 5.32185\n",
      "Average loss at step 1400: 5.32175\n",
      "Average loss at step 1500: 5.32167\n",
      "Average loss at step 1600: 5.32160\n",
      "Average loss at step 1700: 5.32154\n",
      "Average loss at step 1800: 5.32148\n",
      "Average loss at step 1900: 5.32144\n",
      "Average loss at step 2000: 5.32140\n",
      "Average loss at step 2100: 5.32136\n",
      "Average loss at step 2200: 5.32133\n",
      "Average loss at step 2300: 5.32130\n",
      "Average loss at step 2400: 5.32128\n",
      "Average loss at step 2500: 5.32125\n",
      "Average loss at step 2600: 5.32123\n",
      "Average loss at step 2700: 5.32121\n",
      "Average loss at step 2800: 5.32120\n",
      "Average loss at step 2900: 5.32118\n",
      "Average loss at step 3000: 5.32116\n",
      "Average loss at step 3100: 5.32115\n",
      "Average loss at step 3200: 5.32114\n",
      "Average loss at step 3300: 5.32112\n",
      "Average loss at step 3400: 5.32111\n",
      "Average loss at step 3500: 5.32110\n",
      "Average loss at step 3600: 5.32109\n",
      "Average loss at step 3700: 5.32108\n",
      "Average loss at step 3800: 5.32108\n",
      "Average loss at step 3900: 5.32107\n",
      "Average loss at step 4000: 5.32106\n",
      "Average loss at step 4100: 5.32105\n",
      "Average loss at step 4200: 5.32105\n",
      "Average loss at step 4300: 5.32104\n",
      "Average loss at step 4400: 5.32103\n",
      "Average loss at step 4500: 5.32103\n",
      "Average loss at step 4600: 5.32102\n",
      "Average loss at step 4700: 5.32102\n",
      "Average loss at step 4800: 5.32101\n",
      "Average loss at step 4900: 5.32101\n",
      "Average loss at step 5000: 5.32100\n",
      "Average loss at step 5100: 5.32100\n",
      "Average loss at step 5200: 5.32099\n",
      "Average loss at step 5300: 5.32099\n",
      "Average loss at step 5400: 5.32099\n",
      "Average loss at step 5500: 5.32098\n",
      "Average loss at step 5600: 5.32098\n",
      "Average loss at step 5700: 5.32098\n",
      "Average loss at step 5800: 5.32097\n",
      "Average loss at step 5900: 5.32097\n",
      "Average loss at step 6000: 5.32096\n",
      "Average loss at step 6100: 5.32096\n",
      "Average loss at step 6200: 5.32096\n",
      "Average loss at step 6300: 5.32096\n",
      "Average loss at step 6400: 5.32095\n",
      "Average loss at step 6500: 5.32095\n",
      "Average loss at step 6600: 5.32095\n",
      "Average loss at step 6700: 5.32095\n",
      "Average loss at step 6800: 5.32094\n",
      "Average loss at step 6900: 5.32094\n",
      "Average loss at step 7000: 5.32094\n",
      "Average loss at step 7100: 5.32093\n",
      "Average loss at step 7200: 5.32093\n",
      "Average loss at step 7300: 5.32093\n",
      "Average loss at step 7400: 5.32093\n",
      "Average loss at step 7500: 5.32093\n",
      "Average loss at step 7600: 5.32092\n",
      "Average loss at step 7700: 5.32092\n",
      "Average loss at step 7800: 5.32092\n",
      "Average loss at step 7900: 5.32092\n",
      "Average loss at step 8000: 5.32092\n",
      "Average loss at step 8100: 5.32091\n",
      "Average loss at step 8200: 5.32091\n",
      "Average loss at step 8300: 5.32091\n",
      "Average loss at step 8400: 5.32091\n",
      "Average loss at step 8500: 5.32091\n",
      "Average loss at step 8600: 5.32091\n",
      "Average loss at step 8700: 5.32090\n",
      "Average loss at step 8800: 5.32090\n",
      "Average loss at step 8900: 5.32090\n",
      "Average loss at step 9000: 5.32090\n",
      "Average loss at step 9100: 5.32090\n",
      "Average loss at step 9200: 5.32090\n",
      "Average loss at step 9300: 5.32090\n",
      "Average loss at step 9400: 5.32089\n",
      "Average loss at step 9500: 5.32089\n",
      "Average loss at step 9600: 5.32089\n",
      "Average loss at step 9700: 5.32089\n",
      "Average loss at step 9800: 5.32089\n",
      "Average loss at step 9900: 5.32089\n",
      "Average loss at step 10000: 5.32089\n"
     ]
    },
    {
     "data": {
      "image/png": "[encoded data removed]",
      "text/plain": [
       "<Figure size 432x288 with 1 Axes>"
      ]
     },
     "metadata": {
      "needs_background": "light"
     },
     "output_type": "display_data"
    },
    {
     "data": {
      "image/png": "[encoded data removed]",
      "text/plain": [
       "<Figure size 432x288 with 1 Axes>"
      ]
     },
     "metadata": {
      "needs_background": "light"
     },
     "output_type": "display_data"
    }
   ],
   "source": [
    "Y_col = [\"Y\"]\n",
    "X_cols = [c for c in surv_train.columns if c not in Y_col]\n",
    "\n",
    "# model saving and loading is also supported!\n",
    "# read comments of `train()` function if necessary.\n",
    "\n",
    "# ESSENTIAL STEP-3: Train Model\n",
    "# `num_steps` is also a important parameters\n",
    "watch_list = model.train(\n",
    "    surv_train[X_cols], surv_train[Y_col],\n",
    "    num_steps=10000,\n",
    "    num_skip_steps=100,\n",
    "    plot=True,\n",
    "    save_model='./model/afe',\n",
    ")"
   ]
  },
  {
   "cell_type": "code",
   "execution_count": 28,
   "metadata": {},
   "outputs": [],
   "source": [
    "#sess1=tf.Session()"
   ]
  },
  {
   "cell_type": "code",
   "execution_count": 29,
   "metadata": {},
   "outputs": [],
   "source": [
    "#sess1.run(tf.global_variables_initializer())"
   ]
  },
  {
   "cell_type": "code",
   "execution_count": 30,
   "metadata": {},
   "outputs": [],
   "source": [
    "# saver = tf.compat.v1.train.Saver()\n",
    "# saver.restore(sess1, './model/afe')"
   ]
  },
  {
   "cell_type": "code",
   "execution_count": 31,
   "metadata": {},
   "outputs": [],
   "source": [
    "#log_hr = sess1.run(surv_test[Y_col], feed_dict={surv_test[X_cols].values, 1.0})"
   ]
  },
  {
   "cell_type": "code",
   "execution_count": 33,
   "metadata": {},
   "outputs": [
    {
     "name": "stdout",
     "output_type": "stream",
     "text": [
      "CI on training data: 0.9301819816835081\n",
      "CI on test data: 0.9230769230769231\n"
     ]
    }
   ],
   "source": [
    "\n",
    "print(\"CI on training data:\", model.evals(surv_train[X_cols], surv_train[Y_col]))\n",
    "print(\"CI on test data:\", model.evals(surv_test[X_cols], surv_test[Y_col]))"
   ]
  },
  {
   "cell_type": "code",
   "execution_count": 34,
   "metadata": {},
   "outputs": [
    {
     "data": {
      "text/plain": [
       "['ELR_enc',\n",
       " 'HLC_enc',\n",
       " 'Asset_Class_Grouping_enc',\n",
       " 'Grouping_Full_Name_enc',\n",
       " 'Engineering_Suffix_enc',\n",
       " 'System_Asset_Type_enc',\n",
       " 'EQUIP_CLASS_DESC_enc',\n",
       " 'weather_station_enc',\n",
       " 'Sum',\n",
       " 'Asset_Number',\n",
       " 'temp_min',\n",
       " 'temp_max',\n",
       " 'humidity_min',\n",
       " 'humidity_max',\n",
       " 'pressure_min',\n",
       " 'pressure_max',\n",
       " 'wind_speed_min',\n",
       " 'wind_speed_max']"
      ]
     },
     "execution_count": 34,
     "metadata": {},
     "output_type": "execute_result"
    }
   ],
   "source": [
    " X_cols"
   ]
  },
  {
   "cell_type": "code",
   "execution_count": 35,
   "metadata": {},
   "outputs": [],
   "source": [
    "surv_pred=surv_final[X_cols]"
   ]
  },
  {
   "cell_type": "code",
   "execution_count": 37,
   "metadata": {},
   "outputs": [],
   "source": [
    "surv_pred.to_csv('./AFI/data/final_afi.csv', index=False)"
   ]
  },
  {
   "cell_type": "code",
   "execution_count": null,
   "metadata": {},
   "outputs": [],
   "source": [
    "stest[0:5]"
   ]
  },
  {
   "cell_type": "code",
   "execution_count": 38,
   "metadata": {},
   "outputs": [
    {
     "data": {
      "image/png": "[encoded data removed]",
      "text/plain": [
       "<Figure size 432x288 with 1 Axes>"
      ]
     },
     "metadata": {
      "needs_background": "light"
     },
     "output_type": "display_data"
    }
   ],
   "source": [
    "\n",
    "# predict survival function\n",
    "pred=model.predict_survival_function(surv_pred, plot=True)"
   ]
  },
  {
   "cell_type": "code",
   "execution_count": 39,
   "metadata": {},
   "outputs": [
    {
     "data": {
      "text/plain": [
       "637"
      ]
     },
     "execution_count": 39,
     "metadata": {},
     "output_type": "execute_result"
    }
   ],
   "source": [
    "len(pred)"
   ]
  },
  {
   "cell_type": "code",
   "execution_count": 44,
   "metadata": {},
   "outputs": [
    {
     "data": {
      "text/plain": [
       "Float64Index([0.041666667000000004,          0.427777778,          0.459027778,\n",
       "                       0.791435185,          0.942361111,   1.1006944440000002,\n",
       "                       1.354861111,          1.466666667,   1.6291666669999998,\n",
       "                1.6826388890000001,\n",
       "              ...\n",
       "                       789.3214706,    790.1791086000001,    790.2131377999999,\n",
       "                       790.2589705,          790.3457756,          790.5071295,\n",
       "                       796.9707768,          797.0923029,          797.1582758,\n",
       "                        799.324942],\n",
       "             dtype='float64', length=870)"
      ]
     },
     "execution_count": 44,
     "metadata": {},
     "output_type": "execute_result"
    }
   ],
   "source": [
    "pred.columns"
   ]
  },
  {
   "cell_type": "code",
   "execution_count": 45,
   "metadata": {},
   "outputs": [],
   "source": [
    "cols=list(pred.columns)"
   ]
  },
  {
   "cell_type": "code",
   "execution_count": 50,
   "metadata": {},
   "outputs": [],
   "source": [
    "ncols=[]\n",
    "for col in cols:\n",
    "    ncols.append(np.int(col*24//1))"
   ]
  },
  {
   "cell_type": "code",
   "execution_count": 53,
   "metadata": {},
   "outputs": [
    {
     "data": {
      "text/plain": [
       "19183"
      ]
     },
     "execution_count": 53,
     "metadata": {},
     "output_type": "execute_result"
    }
   ],
   "source": [
    "ncols[-1]"
   ]
  },
  {
   "cell_type": "code",
   "execution_count": null,
   "metadata": {},
   "outputs": [],
   "source": [
    "output_node_names = [n.name for n in tf.get_default_graph().as_graph_def().node]"
   ]
  },
  {
   "cell_type": "code",
   "execution_count": null,
   "metadata": {},
   "outputs": [],
   "source": [
    "output_node_names"
   ]
  },
  {
   "cell_type": "code",
   "execution_count": 34,
   "metadata": {},
   "outputs": [
    {
     "name": "stdout",
     "output_type": "stream",
     "text": [
      "INFO:tensorflow:Restoring parameters from model\\afe\n",
      "WARNING:tensorflow:From <ipython-input-34-9d1d7e6dbe9d>:17: convert_variables_to_constants (from tensorflow.python.framework.graph_util_impl) is deprecated and will be removed in a future version.\n",
      "Instructions for updating:\n",
      "Use `tf.compat.v1.graph_util.convert_variables_to_constants`\n",
      "WARNING:tensorflow:From C:\\ProgramData\\Anaconda3\\envs\\afi\\lib\\site-packages\\tensorflow_core\\python\\framework\\graph_util_impl.py:277: extract_sub_graph (from tensorflow.python.framework.graph_util_impl) is deprecated and will be removed in a future version.\n",
      "Instructions for updating:\n",
      "Use `tf.compat.v1.graph_util.extract_sub_graph`\n",
      "INFO:tensorflow:Froze 7 variables.\n",
      "INFO:tensorflow:Converted 7 variables to const ops.\n"
     ]
    }
   ],
   "source": [
    "import tensorflow as tf\n",
    "\n",
    "meta_path = 'model/afe.meta' # Your .meta file\n",
    "output_node_names = [n.name for n in tf.get_default_graph().as_graph_def().node]  \n",
    "black_list=['node _retval_layer1/weights_1_0_9', 'node _retval_layer1/weights_4_0_14', 'node _retval_layer1/weights_1_0_13',\n",
    "           'node _retval_layer2/biases_1_0_22','node _retval_layer2/biases_5_0_29','node _retval_layer3/weights_4_0_58'\n",
    "           ,'node _retval_layer1/weights_9_0_29','node _retval_layer2/biases_2_0_36']# Output nodes\n",
    "\n",
    "with tf.Session() as sess:\n",
    "    # Restore the graph\n",
    "    saver = tf.train.import_meta_graph(meta_path)\n",
    "    saver.restore(sess,tf.train.latest_checkpoint('model'))\n",
    "        # Freeze the graph\n",
    "    frozen_graph_def = tf.graph_util.convert_variables_to_constants(\n",
    "        sess,\n",
    "        sess.graph_def,\n",
    "        output_node_names, variable_names_blacklist= black_list)\n",
    "\n",
    "        # Save the frozen graph\n",
    "    with open('model/output_graph.pb', 'wb') as f:\n",
    "        f.write(frozen_graph_def.SerializeToString())"
   ]
  },
  {
   "cell_type": "code",
   "execution_count": null,
   "metadata": {},
   "outputs": [],
   "source": [
    "tf.compat.v1.graph_util.extract_sub_graph()"
   ]
  },
  {
   "cell_type": "code",
   "execution_count": 42,
   "metadata": {},
   "outputs": [],
   "source": [
    "pred.to_csv('predictions.csv')"
   ]
  },
  {
   "cell_type": "code",
   "execution_count": null,
   "metadata": {},
   "outputs": [],
   "source": [
    "685/24"
   ]
  },
  {
   "cell_type": "code",
   "execution_count": null,
   "metadata": {},
   "outputs": [],
   "source": [
    "pred.head()"
   ]
  },
  {
   "cell_type": "code",
   "execution_count": null,
   "metadata": {},
   "outputs": [],
   "source": [
    "# predict log hazard ratio\n",
    "print(model.predict(stest[0:10]))\n",
    "# predict hazard ratio\n",
    "print(model.predict(stest[0:10], output_margin=False))"
   ]
  },
  {
   "cell_type": "code",
   "execution_count": null,
   "metadata": {},
   "outputs": [],
   "source": [
    "model.load_weights('./model/afe.data-00000-of-00001')"
   ]
  },
  {
   "cell_type": "code",
   "execution_count": null,
   "metadata": {},
   "outputs": [],
   "source": [
    "type(model)"
   ]
  },
  {
   "cell_type": "code",
   "execution_count": null,
   "metadata": {},
   "outputs": [],
   "source": [
    "model.close_session()"
   ]
  },
  {
   "cell_type": "code",
   "execution_count": null,
   "metadata": {},
   "outputs": [],
   "source": [
    "tf.reset_default_graph()"
   ]
  },
  {
   "cell_type": "code",
   "execution_count": null,
   "metadata": {},
   "outputs": [],
   "source": [
    "sess=tf.Session()   "
   ]
  },
  {
   "cell_type": "code",
   "execution_count": null,
   "metadata": {},
   "outputs": [],
   "source": [
    "#First let's load meta graph and restore weights\n",
    "saver = tf.train.import_meta_graph('./model/afe.meta')"
   ]
  },
  {
   "cell_type": "code",
   "execution_count": null,
   "metadata": {},
   "outputs": [],
   "source": [
    "saver.restore(sess,tf.train.latest_checkpoint('./model'))"
   ]
  },
  {
   "cell_type": "code",
   "execution_count": null,
   "metadata": {},
   "outputs": [],
   "source": [
    "warnings"
   ]
  },
  {
   "cell_type": "code",
   "execution_count": null,
   "metadata": {},
   "outputs": [],
   "source": [
    "graph = tf.get_default_graph()"
   ]
  },
  {
   "cell_type": "code",
   "execution_count": null,
   "metadata": {},
   "outputs": [],
   "source": [
    "all_vars = tf.get_collection('vars')\n",
    "for v in all_vars:\n",
    "    v_ = sess.run(v)\n",
    "    print(v_)"
   ]
  },
  {
   "cell_type": "code",
   "execution_count": null,
   "metadata": {},
   "outputs": [],
   "source": [
    "graph.get_tensor_by_name"
   ]
  },
  {
   "cell_type": "code",
   "execution_count": null,
   "metadata": {},
   "outputs": [],
   "source": [
    "watch_list"
   ]
  },
  {
   "cell_type": "code",
   "execution_count": null,
   "metadata": {},
   "outputs": [],
   "source": []
  }
 ],
 "metadata": {
  "kernelspec": {
   "display_name": "Python 3",
   "language": "python",
   "name": "python3"
  },
  "language_info": {
   "codemirror_mode": {
    "name": "ipython",
    "version": 3
   },
   "file_extension": ".py",
   "mimetype": "text/x-python",
   "name": "python",
   "nbconvert_exporter": "python",
   "pygments_lexer": "ipython3",
   "version": "3.7.1"
  }
 },
 "nbformat": 4,
 "nbformat_minor": 2
}
