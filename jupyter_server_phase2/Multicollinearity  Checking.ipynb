{
 "cells": [
  {
   "cell_type": "code",
   "execution_count": 1,
   "metadata": {},
   "outputs": [],
   "source": [
    "import statsmodels.formula.api as sm\n",
    "import pandas as pd\n",
    "import numpy as np\n",
    "from statsmodels.stats.outliers_influence import variance_inflation_factor\n",
    "from sklearn.base import BaseEstimator, TransformerMixin\n",
    "from sklearn.impute import SimpleImputer \n",
    "\n",
    "import matplotlib.pyplot as plt\n",
    "import seaborn as sns\n",
    "\n",
    "%matplotlib inline"
   ]
  },
  {
   "cell_type": "markdown",
   "metadata": {},
   "source": [
    "### Detecting Multicollinearity Using Variance Inflation Factors"
   ]
  },
  {
   "cell_type": "code",
   "execution_count": 2,
   "metadata": {},
   "outputs": [],
   "source": [
    "class ReduceVIF(BaseEstimator, TransformerMixin):\n",
    "    def __init__(self, thresh=5.0, impute=True, impute_strategy='median'):\n",
    "        # From looking at documentation, values between 5 and 10 are \"okay\".\n",
    "        # Above 10 is too high and so should be removed.\n",
    "        self.thresh = thresh\n",
    "        \n",
    "        # The statsmodel function will fail with NaN values, as such we have to impute them.\n",
    "        # By default we impute using the median value.\n",
    "        # This imputation could be taken out and added as part of an sklearn Pipeline.\n",
    "        if impute:\n",
    "            self.imputer = SimpleImputer(strategy=impute_strategy)\n",
    "\n",
    "    def fit(self, X, y=None):\n",
    "        print('ReduceVIF fit')\n",
    "        if hasattr(self, 'imputer'):\n",
    "            self.imputer.fit(X)\n",
    "        return self\n",
    "\n",
    "    def transform(self, X, y=None):\n",
    "        print('ReduceVIF transform')\n",
    "        columns = X.columns.tolist()\n",
    "        if hasattr(self, 'imputer'):\n",
    "            X = pd.DataFrame(self.imputer.transform(X), columns=columns)\n",
    "        return ReduceVIF.calculate_vif(X, self.thresh)\n",
    "\n",
    "    @staticmethod\n",
    "    def calculate_vif(X, thresh=5.0):\n",
    "        # Taken from https://stats.stackexchange.com/a/253620/53565 and modified\n",
    "        dropped=True\n",
    "        while dropped:\n",
    "            variables = X.columns\n",
    "            dropped = False\n",
    "            vif = [variance_inflation_factor(X[variables].values, X.columns.get_loc(var)) for var in X.columns]\n",
    "            \n",
    "            max_vif = max(vif)\n",
    "            if max_vif > thresh:\n",
    "                maxloc = vif.index(max_vif)\n",
    "                print(f'Dropping {X.columns[maxloc]} with vif={max_vif}')\n",
    "                X = X.drop([X.columns.tolist()[maxloc]], axis=1)\n",
    "                dropped=True\n",
    "        return X"
   ]
  },
  {
   "cell_type": "code",
   "execution_count": 13,
   "metadata": {},
   "outputs": [],
   "source": [
    "X= pd.read_csv('./X1.csv', index_col=0)"
   ]
  },
  {
   "cell_type": "code",
   "execution_count": 14,
   "metadata": {},
   "outputs": [
    {
     "data": {
      "text/html": [
       "<div>\n",
       "<style scoped>\n",
       "    .dataframe tbody tr th:only-of-type {\n",
       "        vertical-align: middle;\n",
       "    }\n",
       "\n",
       "    .dataframe tbody tr th {\n",
       "        vertical-align: top;\n",
       "    }\n",
       "\n",
       "    .dataframe thead th {\n",
       "        text-align: right;\n",
       "    }\n",
       "</style>\n",
       "<table border=\"1\" class=\"dataframe\">\n",
       "  <thead>\n",
       "    <tr style=\"text-align: right;\">\n",
       "      <th></th>\n",
       "      <th>High_Level_Asset_Class[T.P&amp;C]</th>\n",
       "      <th>High_Level_Asset_Class[T.S&amp;T]</th>\n",
       "      <th>High_Level_Asset_Class[T.Track]</th>\n",
       "      <th>weather_station[T.Leeds]</th>\n",
       "      <th>weather_station[T.Manchester]</th>\n",
       "      <th>weather_station[T.Mirfield]</th>\n",
       "      <th>weather_station[T.York]</th>\n",
       "      <th>Asset_Number</th>\n",
       "      <th>event</th>\n",
       "      <th>T</th>\n",
       "      <th>...</th>\n",
       "      <th>humidity_24h_d</th>\n",
       "      <th>wind_speed_24h_d</th>\n",
       "      <th>temp_24h_range</th>\n",
       "      <th>temp_1w_d</th>\n",
       "      <th>pressure_1w_d</th>\n",
       "      <th>humidity_1w_d</th>\n",
       "      <th>wind_speed_1w_d</th>\n",
       "      <th>wind_speed_24h_d_h</th>\n",
       "      <th>wind_speed_24h_d_l</th>\n",
       "      <th>temp_1w_range</th>\n",
       "    </tr>\n",
       "  </thead>\n",
       "  <tbody>\n",
       "    <tr>\n",
       "      <th>0</th>\n",
       "      <td>0.0</td>\n",
       "      <td>0.0</td>\n",
       "      <td>0.0</td>\n",
       "      <td>1.0</td>\n",
       "      <td>0.0</td>\n",
       "      <td>0.0</td>\n",
       "      <td>0.0</td>\n",
       "      <td>1011867.0</td>\n",
       "      <td>0.0</td>\n",
       "      <td>923.439884</td>\n",
       "      <td>...</td>\n",
       "      <td>88.0</td>\n",
       "      <td>4.0</td>\n",
       "      <td>2.78</td>\n",
       "      <td>16.54</td>\n",
       "      <td>1006.0</td>\n",
       "      <td>88.0</td>\n",
       "      <td>4.0</td>\n",
       "      <td>7.0</td>\n",
       "      <td>3.0</td>\n",
       "      <td>4.024564</td>\n",
       "    </tr>\n",
       "    <tr>\n",
       "      <th>2</th>\n",
       "      <td>0.0</td>\n",
       "      <td>0.0</td>\n",
       "      <td>0.0</td>\n",
       "      <td>0.0</td>\n",
       "      <td>0.0</td>\n",
       "      <td>0.0</td>\n",
       "      <td>1.0</td>\n",
       "      <td>1063020.0</td>\n",
       "      <td>0.0</td>\n",
       "      <td>833.960718</td>\n",
       "      <td>...</td>\n",
       "      <td>93.0</td>\n",
       "      <td>4.0</td>\n",
       "      <td>2.22</td>\n",
       "      <td>17.07</td>\n",
       "      <td>1005.0</td>\n",
       "      <td>88.0</td>\n",
       "      <td>3.0</td>\n",
       "      <td>6.0</td>\n",
       "      <td>2.0</td>\n",
       "      <td>4.043420</td>\n",
       "    </tr>\n",
       "    <tr>\n",
       "      <th>3</th>\n",
       "      <td>0.0</td>\n",
       "      <td>0.0</td>\n",
       "      <td>0.0</td>\n",
       "      <td>0.0</td>\n",
       "      <td>0.0</td>\n",
       "      <td>0.0</td>\n",
       "      <td>1.0</td>\n",
       "      <td>10290424.0</td>\n",
       "      <td>0.0</td>\n",
       "      <td>830.185719</td>\n",
       "      <td>...</td>\n",
       "      <td>93.0</td>\n",
       "      <td>4.0</td>\n",
       "      <td>2.22</td>\n",
       "      <td>17.07</td>\n",
       "      <td>1005.0</td>\n",
       "      <td>88.0</td>\n",
       "      <td>3.0</td>\n",
       "      <td>6.0</td>\n",
       "      <td>2.0</td>\n",
       "      <td>4.043420</td>\n",
       "    </tr>\n",
       "    <tr>\n",
       "      <th>4</th>\n",
       "      <td>0.0</td>\n",
       "      <td>0.0</td>\n",
       "      <td>0.0</td>\n",
       "      <td>0.0</td>\n",
       "      <td>0.0</td>\n",
       "      <td>0.0</td>\n",
       "      <td>1.0</td>\n",
       "      <td>14105964.0</td>\n",
       "      <td>1.0</td>\n",
       "      <td>-55.286806</td>\n",
       "      <td>...</td>\n",
       "      <td>100.0</td>\n",
       "      <td>4.0</td>\n",
       "      <td>1.00</td>\n",
       "      <td>6.86</td>\n",
       "      <td>1008.0</td>\n",
       "      <td>93.0</td>\n",
       "      <td>4.0</td>\n",
       "      <td>5.0</td>\n",
       "      <td>3.0</td>\n",
       "      <td>2.196825</td>\n",
       "    </tr>\n",
       "    <tr>\n",
       "      <th>5</th>\n",
       "      <td>0.0</td>\n",
       "      <td>0.0</td>\n",
       "      <td>0.0</td>\n",
       "      <td>0.0</td>\n",
       "      <td>0.0</td>\n",
       "      <td>0.0</td>\n",
       "      <td>1.0</td>\n",
       "      <td>14105964.0</td>\n",
       "      <td>1.0</td>\n",
       "      <td>-455.687685</td>\n",
       "      <td>...</td>\n",
       "      <td>75.0</td>\n",
       "      <td>10.0</td>\n",
       "      <td>5.00</td>\n",
       "      <td>4.75</td>\n",
       "      <td>1021.0</td>\n",
       "      <td>86.0</td>\n",
       "      <td>3.0</td>\n",
       "      <td>21.0</td>\n",
       "      <td>1.0</td>\n",
       "      <td>4.512821</td>\n",
       "    </tr>\n",
       "  </tbody>\n",
       "</table>\n",
       "<p>5 rows × 22 columns</p>\n",
       "</div>"
      ],
      "text/plain": [
       "   High_Level_Asset_Class[T.P&C]  High_Level_Asset_Class[T.S&T]  \\\n",
       "0                            0.0                            0.0   \n",
       "2                            0.0                            0.0   \n",
       "3                            0.0                            0.0   \n",
       "4                            0.0                            0.0   \n",
       "5                            0.0                            0.0   \n",
       "\n",
       "   High_Level_Asset_Class[T.Track]  weather_station[T.Leeds]  \\\n",
       "0                              0.0                       1.0   \n",
       "2                              0.0                       0.0   \n",
       "3                              0.0                       0.0   \n",
       "4                              0.0                       0.0   \n",
       "5                              0.0                       0.0   \n",
       "\n",
       "   weather_station[T.Manchester]  weather_station[T.Mirfield]  \\\n",
       "0                            0.0                          0.0   \n",
       "2                            0.0                          0.0   \n",
       "3                            0.0                          0.0   \n",
       "4                            0.0                          0.0   \n",
       "5                            0.0                          0.0   \n",
       "\n",
       "   weather_station[T.York]  Asset_Number  event           T  ...  \\\n",
       "0                      0.0     1011867.0    0.0  923.439884  ...   \n",
       "2                      1.0     1063020.0    0.0  833.960718  ...   \n",
       "3                      1.0    10290424.0    0.0  830.185719  ...   \n",
       "4                      1.0    14105964.0    1.0  -55.286806  ...   \n",
       "5                      1.0    14105964.0    1.0 -455.687685  ...   \n",
       "\n",
       "   humidity_24h_d  wind_speed_24h_d  temp_24h_range  temp_1w_d  pressure_1w_d  \\\n",
       "0            88.0               4.0            2.78      16.54         1006.0   \n",
       "2            93.0               4.0            2.22      17.07         1005.0   \n",
       "3            93.0               4.0            2.22      17.07         1005.0   \n",
       "4           100.0               4.0            1.00       6.86         1008.0   \n",
       "5            75.0              10.0            5.00       4.75         1021.0   \n",
       "\n",
       "   humidity_1w_d  wind_speed_1w_d  wind_speed_24h_d_h  wind_speed_24h_d_l  \\\n",
       "0           88.0              4.0                 7.0                 3.0   \n",
       "2           88.0              3.0                 6.0                 2.0   \n",
       "3           88.0              3.0                 6.0                 2.0   \n",
       "4           93.0              4.0                 5.0                 3.0   \n",
       "5           86.0              3.0                21.0                 1.0   \n",
       "\n",
       "   temp_1w_range  \n",
       "0       4.024564  \n",
       "2       4.043420  \n",
       "3       4.043420  \n",
       "4       2.196825  \n",
       "5       4.512821  \n",
       "\n",
       "[5 rows x 22 columns]"
      ]
     },
     "execution_count": 14,
     "metadata": {},
     "output_type": "execute_result"
    }
   ],
   "source": [
    "X.head()"
   ]
  },
  {
   "cell_type": "code",
   "execution_count": 15,
   "metadata": {},
   "outputs": [],
   "source": [
    "y= X.pop('Asset_Number')"
   ]
  },
  {
   "cell_type": "code",
   "execution_count": 16,
   "metadata": {},
   "outputs": [
    {
     "data": {
      "text/plain": [
       "Index(['High_Level_Asset_Class[T.P&C]', 'High_Level_Asset_Class[T.S&T]',\n",
       "       'High_Level_Asset_Class[T.Track]', 'weather_station[T.Leeds]',\n",
       "       'weather_station[T.Manchester]', 'weather_station[T.Mirfield]',\n",
       "       'weather_station[T.York]', 'event', 'T', 'temp_24h_d', 'pressure_24h_d',\n",
       "       'humidity_24h_d', 'wind_speed_24h_d', 'temp_24h_range', 'temp_1w_d',\n",
       "       'pressure_1w_d', 'humidity_1w_d', 'wind_speed_1w_d',\n",
       "       'wind_speed_24h_d_h', 'wind_speed_24h_d_l', 'temp_1w_range'],\n",
       "      dtype='object')"
      ]
     },
     "execution_count": 16,
     "metadata": {},
     "output_type": "execute_result"
    }
   ],
   "source": [
    "X.columns"
   ]
  },
  {
   "cell_type": "code",
   "execution_count": 17,
   "metadata": {},
   "outputs": [
    {
     "name": "stdout",
     "output_type": "stream",
     "text": [
      "<class 'pandas.core.frame.DataFrame'>\n",
      "Int64Index: 740 entries, 0 to 938\n",
      "Data columns (total 21 columns):\n",
      "High_Level_Asset_Class[T.P&C]      740 non-null float64\n",
      "High_Level_Asset_Class[T.S&T]      740 non-null float64\n",
      "High_Level_Asset_Class[T.Track]    740 non-null float64\n",
      "weather_station[T.Leeds]           740 non-null float64\n",
      "weather_station[T.Manchester]      740 non-null float64\n",
      "weather_station[T.Mirfield]        740 non-null float64\n",
      "weather_station[T.York]            740 non-null float64\n",
      "event                              740 non-null float64\n",
      "T                                  740 non-null float64\n",
      "temp_24h_d                         740 non-null float64\n",
      "pressure_24h_d                     740 non-null float64\n",
      "humidity_24h_d                     740 non-null float64\n",
      "wind_speed_24h_d                   740 non-null float64\n",
      "temp_24h_range                     740 non-null float64\n",
      "temp_1w_d                          740 non-null float64\n",
      "pressure_1w_d                      740 non-null float64\n",
      "humidity_1w_d                      740 non-null float64\n",
      "wind_speed_1w_d                    740 non-null float64\n",
      "wind_speed_24h_d_h                 740 non-null float64\n",
      "wind_speed_24h_d_l                 740 non-null float64\n",
      "temp_1w_range                      740 non-null float64\n",
      "dtypes: float64(21)\n",
      "memory usage: 127.2 KB\n"
     ]
    }
   ],
   "source": [
    "X.info()"
   ]
  },
  {
   "cell_type": "code",
   "execution_count": 18,
   "metadata": {},
   "outputs": [],
   "source": [
    "transformer = ReduceVIF()"
   ]
  },
  {
   "cell_type": "code",
   "execution_count": 19,
   "metadata": {},
   "outputs": [
    {
     "name": "stdout",
     "output_type": "stream",
     "text": [
      "ReduceVIF fit\n",
      "ReduceVIF transform\n",
      "Dropping pressure_24h_d with vif=47100.97295100967\n"
     ]
    },
    {
     "name": "stderr",
     "output_type": "stream",
     "text": [
      "C:\\Users\\olono\\AppData\\Local\\conda\\conda\\envs\\rail\\lib\\site-packages\\statsmodels\\regression\\linear_model.py:1545: RuntimeWarning: invalid value encountered in double_scalars\n",
      "  return 1 - self.ssr/self.uncentered_tss\n"
     ]
    },
    {
     "name": "stdout",
     "output_type": "stream",
     "text": [
      "Dropping pressure_1w_d with vif=847.5155536308798\n",
      "Dropping humidity_1w_d with vif=387.4102700680176\n",
      "Dropping temp_1w_d with vif=115.55217294033913\n",
      "Dropping humidity_24h_d with vif=89.18428975488885\n",
      "Dropping temp_1w_range with vif=59.19975478667611\n",
      "Dropping wind_speed_24h_d with vif=44.488702144806545\n",
      "Dropping wind_speed_1w_d with vif=33.373025830816516\n",
      "Dropping wind_speed_24h_d_h with vif=21.34369972686145\n",
      "Dropping temp_24h_d with vif=19.999869931132615\n",
      "Dropping temp_24h_range with vif=10.128834682160845\n",
      "Dropping wind_speed_24h_d_l with vif=8.691866451403309\n",
      "Dropping T with vif=6.455327075708896\n"
     ]
    }
   ],
   "source": [
    "X = transformer.fit_transform(X, y)"
   ]
  },
  {
   "cell_type": "code",
   "execution_count": 20,
   "metadata": {},
   "outputs": [],
   "source": [
    "def heatMap(df):#Create Correlation df\n",
    "    corr = df.corr()\n",
    "    #Plot figsize\n",
    "    fig, ax = plt.subplots(figsize=(16, 16))\n",
    "    #Generate Color Map\n",
    "    colormap = sns.diverging_palette(220, 10, as_cmap=True)\n",
    "    #Generate Heat Map, allow annotations and place floats in map\n",
    "    sns.heatmap(corr, cmap=colormap, annot=True, fmt=\".2f\")\n",
    "    #Apply xticks\n",
    "    plt.xticks(range(len(corr.columns)), corr.columns);\n",
    "    #Apply yticks\n",
    "    plt.yticks(range(len(corr.columns)), corr.columns)\n",
    "    #show plot\n",
    "    plt.show()"
   ]
  },
  {
   "cell_type": "code",
   "execution_count": 21,
   "metadata": {},
   "outputs": [],
   "source": [
    "X['Y']=y"
   ]
  },
  {
   "cell_type": "code",
   "execution_count": 22,
   "metadata": {},
   "outputs": [
    {
     "data": {
      "image/png": "[encoded data removed]",
      "text/plain": [
       "<Figure size 1152x1152 with 2 Axes>"
      ]
     },
     "metadata": {
      "needs_background": "light"
     },
     "output_type": "display_data"
    }
   ],
   "source": [
    "heatMap(X)"
   ]
  },
  {
   "cell_type": "code",
   "execution_count": 23,
   "metadata": {},
   "outputs": [
    {
     "data": {
      "text/plain": [
       "Index(['High_Level_Asset_Class[T.P&C]', 'High_Level_Asset_Class[T.S&T]',\n",
       "       'High_Level_Asset_Class[T.Track]', 'weather_station[T.Leeds]',\n",
       "       'weather_station[T.Manchester]', 'weather_station[T.Mirfield]',\n",
       "       'weather_station[T.York]', 'event', 'Y'],\n",
       "      dtype='object')"
      ]
     },
     "execution_count": 23,
     "metadata": {},
     "output_type": "execute_result"
    }
   ],
   "source": [
    "X.columns"
   ]
  },
  {
   "cell_type": "code",
   "execution_count": 25,
   "metadata": {},
   "outputs": [
    {
     "data": {
      "text/plain": [
       "count    740.000000\n",
       "mean       0.264865\n",
       "std        0.441560\n",
       "min        0.000000\n",
       "25%        0.000000\n",
       "50%        0.000000\n",
       "75%        1.000000\n",
       "max        1.000000\n",
       "Name: weather_station[T.York], dtype: float64"
      ]
     },
     "execution_count": 25,
     "metadata": {},
     "output_type": "execute_result"
    }
   ],
   "source": [
    "X['weather_station[T.York]'].describe()"
   ]
  },
  {
   "cell_type": "code",
   "execution_count": null,
   "metadata": {},
   "outputs": [],
   "source": []
  }
 ],
 "metadata": {
  "kernelspec": {
   "display_name": "Python 3",
   "language": "python",
   "name": "python3"
  },
  "language_info": {
   "codemirror_mode": {
    "name": "ipython",
    "version": 3
   },
   "file_extension": ".py",
   "mimetype": "text/x-python",
   "name": "python",
   "nbconvert_exporter": "python",
   "pygments_lexer": "ipython3",
   "version": "3.6.8"
  }
 },
 "nbformat": 4,
 "nbformat_minor": 2
}
