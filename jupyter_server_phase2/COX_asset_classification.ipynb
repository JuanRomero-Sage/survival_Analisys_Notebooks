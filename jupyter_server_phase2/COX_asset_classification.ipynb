{
 "cells": [
  {
   "cell_type": "code",
   "execution_count": 1,
   "metadata": {},
   "outputs": [],
   "source": [
    "import pandas as pd\n",
    "import numpy as np\n",
    "import datetime as dt"
   ]
  },
  {
   "cell_type": "code",
   "execution_count": 2,
   "metadata": {},
   "outputs": [],
   "source": [
    "df=pd.read_csv('df_cox_master.csv')"
   ]
  },
  {
   "cell_type": "code",
   "execution_count": 3,
   "metadata": {},
   "outputs": [
    {
     "data": {
      "text/html": [
       "<div>\n",
       "<style scoped>\n",
       "    .dataframe tbody tr th:only-of-type {\n",
       "        vertical-align: middle;\n",
       "    }\n",
       "\n",
       "    .dataframe tbody tr th {\n",
       "        vertical-align: top;\n",
       "    }\n",
       "\n",
       "    .dataframe thead th {\n",
       "        text-align: right;\n",
       "    }\n",
       "</style>\n",
       "<table border=\"1\" class=\"dataframe\">\n",
       "  <thead>\n",
       "    <tr style=\"text-align: right;\">\n",
       "      <th></th>\n",
       "      <th>Asset_Number</th>\n",
       "      <th>ELR</th>\n",
       "      <th>High_Level_Asset_Class</th>\n",
       "      <th>Asset_Class_Grouping</th>\n",
       "      <th>Grouping_Full_Name</th>\n",
       "      <th>Engineering_Suffix</th>\n",
       "      <th>System_Asset_Type</th>\n",
       "      <th>EQUIP_CLASS_DESC</th>\n",
       "      <th>birth</th>\n",
       "      <th>death</th>\n",
       "      <th>...</th>\n",
       "      <th>duration</th>\n",
       "      <th>T</th>\n",
       "      <th>Start_Latitude</th>\n",
       "      <th>Start_Longitude</th>\n",
       "      <th>End_Latitude</th>\n",
       "      <th>End_Longitude</th>\n",
       "      <th>midpoint_Latitude</th>\n",
       "      <th>midpoint_Longitude</th>\n",
       "      <th>weather_station</th>\n",
       "      <th>Sum</th>\n",
       "    </tr>\n",
       "  </thead>\n",
       "  <tbody>\n",
       "    <tr>\n",
       "      <th>0</th>\n",
       "      <td>48075</td>\n",
       "      <td>DOL2</td>\n",
       "      <td>Track</td>\n",
       "      <td>Track</td>\n",
       "      <td>Track</td>\n",
       "      <td>TRACK (P.W)</td>\n",
       "      <td>TRACK</td>\n",
       "      <td>Track ID                                      ...</td>\n",
       "      <td>17/06/2018 14:15</td>\n",
       "      <td>NaN</td>\n",
       "      <td>...</td>\n",
       "      <td>267 days 02:32:55.956814000</td>\n",
       "      <td>267.106203</td>\n",
       "      <td>53.676956</td>\n",
       "      <td>-1.499728</td>\n",
       "      <td>53.792410</td>\n",
       "      <td>-1.561374</td>\n",
       "      <td>53.734683</td>\n",
       "      <td>-1.530551</td>\n",
       "      <td>Leeds</td>\n",
       "      <td>NaN</td>\n",
       "    </tr>\n",
       "    <tr>\n",
       "      <th>1</th>\n",
       "      <td>48081</td>\n",
       "      <td>DOL2</td>\n",
       "      <td>Track</td>\n",
       "      <td>Track</td>\n",
       "      <td>Track</td>\n",
       "      <td>TRACK (P.W)</td>\n",
       "      <td>TRACK</td>\n",
       "      <td>Track ID                                      ...</td>\n",
       "      <td>11/04/2017 19:55</td>\n",
       "      <td>12/04/2017 14:54</td>\n",
       "      <td>...</td>\n",
       "      <td>0 days 18:59:40.000000000</td>\n",
       "      <td>0.791435</td>\n",
       "      <td>53.676956</td>\n",
       "      <td>-1.499728</td>\n",
       "      <td>53.792413</td>\n",
       "      <td>-1.561387</td>\n",
       "      <td>53.734684</td>\n",
       "      <td>-1.530557</td>\n",
       "      <td>Leeds</td>\n",
       "      <td>NaN</td>\n",
       "    </tr>\n",
       "    <tr>\n",
       "      <th>2</th>\n",
       "      <td>48081</td>\n",
       "      <td>DOL2</td>\n",
       "      <td>Track</td>\n",
       "      <td>Track</td>\n",
       "      <td>Track</td>\n",
       "      <td>TRACK (P.W)</td>\n",
       "      <td>TRACK</td>\n",
       "      <td>Track ID                                      ...</td>\n",
       "      <td>23/04/2017 06:00</td>\n",
       "      <td>02/06/2017 21:46</td>\n",
       "      <td>...</td>\n",
       "      <td>40 days 15:45:59.000000000</td>\n",
       "      <td>40.656933</td>\n",
       "      <td>53.676956</td>\n",
       "      <td>-1.499728</td>\n",
       "      <td>53.792413</td>\n",
       "      <td>-1.561387</td>\n",
       "      <td>53.734684</td>\n",
       "      <td>-1.530557</td>\n",
       "      <td>Leeds</td>\n",
       "      <td>NaN</td>\n",
       "    </tr>\n",
       "    <tr>\n",
       "      <th>3</th>\n",
       "      <td>48081</td>\n",
       "      <td>DOL2</td>\n",
       "      <td>Track</td>\n",
       "      <td>Track</td>\n",
       "      <td>Track</td>\n",
       "      <td>TRACK (P.W)</td>\n",
       "      <td>TRACK</td>\n",
       "      <td>Track ID                                      ...</td>\n",
       "      <td>02/06/2017 23:53</td>\n",
       "      <td>23/12/2017 09:57</td>\n",
       "      <td>...</td>\n",
       "      <td>203 days 10:04:00.000000000</td>\n",
       "      <td>203.419444</td>\n",
       "      <td>53.676956</td>\n",
       "      <td>-1.499728</td>\n",
       "      <td>53.792413</td>\n",
       "      <td>-1.561387</td>\n",
       "      <td>53.734684</td>\n",
       "      <td>-1.530557</td>\n",
       "      <td>Leeds</td>\n",
       "      <td>NaN</td>\n",
       "    </tr>\n",
       "    <tr>\n",
       "      <th>4</th>\n",
       "      <td>48081</td>\n",
       "      <td>DOL2</td>\n",
       "      <td>Track</td>\n",
       "      <td>Track</td>\n",
       "      <td>Track</td>\n",
       "      <td>TRACK (P.W)</td>\n",
       "      <td>TRACK</td>\n",
       "      <td>Track ID                                      ...</td>\n",
       "      <td>23/12/2017 12:00</td>\n",
       "      <td>NaN</td>\n",
       "      <td>...</td>\n",
       "      <td>443 days 04:47:55.956814000</td>\n",
       "      <td>443.199953</td>\n",
       "      <td>53.676956</td>\n",
       "      <td>-1.499728</td>\n",
       "      <td>53.792413</td>\n",
       "      <td>-1.561387</td>\n",
       "      <td>53.734684</td>\n",
       "      <td>-1.530557</td>\n",
       "      <td>Leeds</td>\n",
       "      <td>NaN</td>\n",
       "    </tr>\n",
       "  </tbody>\n",
       "</table>\n",
       "<p>5 rows × 21 columns</p>\n",
       "</div>"
      ],
      "text/plain": [
       "   Asset_Number   ELR High_Level_Asset_Class Asset_Class_Grouping  \\\n",
       "0         48075  DOL2                  Track                Track   \n",
       "1         48081  DOL2                  Track                Track   \n",
       "2         48081  DOL2                  Track                Track   \n",
       "3         48081  DOL2                  Track                Track   \n",
       "4         48081  DOL2                  Track                Track   \n",
       "\n",
       "  Grouping_Full_Name Engineering_Suffix System_Asset_Type  \\\n",
       "0              Track        TRACK (P.W)             TRACK   \n",
       "1              Track        TRACK (P.W)             TRACK   \n",
       "2              Track        TRACK (P.W)             TRACK   \n",
       "3              Track        TRACK (P.W)             TRACK   \n",
       "4              Track        TRACK (P.W)             TRACK   \n",
       "\n",
       "                                    EQUIP_CLASS_DESC             birth  \\\n",
       "0  Track ID                                      ...  17/06/2018 14:15   \n",
       "1  Track ID                                      ...  11/04/2017 19:55   \n",
       "2  Track ID                                      ...  23/04/2017 06:00   \n",
       "3  Track ID                                      ...  02/06/2017 23:53   \n",
       "4  Track ID                                      ...  23/12/2017 12:00   \n",
       "\n",
       "              death  ...                     duration           T  \\\n",
       "0               NaN  ...  267 days 02:32:55.956814000  267.106203   \n",
       "1  12/04/2017 14:54  ...    0 days 18:59:40.000000000    0.791435   \n",
       "2  02/06/2017 21:46  ...   40 days 15:45:59.000000000   40.656933   \n",
       "3  23/12/2017 09:57  ...  203 days 10:04:00.000000000  203.419444   \n",
       "4               NaN  ...  443 days 04:47:55.956814000  443.199953   \n",
       "\n",
       "   Start_Latitude  Start_Longitude  End_Latitude  End_Longitude  \\\n",
       "0       53.676956        -1.499728     53.792410      -1.561374   \n",
       "1       53.676956        -1.499728     53.792413      -1.561387   \n",
       "2       53.676956        -1.499728     53.792413      -1.561387   \n",
       "3       53.676956        -1.499728     53.792413      -1.561387   \n",
       "4       53.676956        -1.499728     53.792413      -1.561387   \n",
       "\n",
       "   midpoint_Latitude  midpoint_Longitude  weather_station Sum  \n",
       "0          53.734683           -1.530551            Leeds NaN  \n",
       "1          53.734684           -1.530557            Leeds NaN  \n",
       "2          53.734684           -1.530557            Leeds NaN  \n",
       "3          53.734684           -1.530557            Leeds NaN  \n",
       "4          53.734684           -1.530557            Leeds NaN  \n",
       "\n",
       "[5 rows x 21 columns]"
      ]
     },
     "execution_count": 3,
     "metadata": {},
     "output_type": "execute_result"
    }
   ],
   "source": [
    "df.head()"
   ]
  },
  {
   "cell_type": "code",
   "execution_count": 4,
   "metadata": {},
   "outputs": [
    {
     "data": {
      "text/plain": [
       "Index(['Asset_Number', 'ELR', 'High_Level_Asset_Class', 'Asset_Class_Grouping',\n",
       "       'Grouping_Full_Name', 'Engineering_Suffix', 'System_Asset_Type',\n",
       "       'EQUIP_CLASS_DESC', 'birth', 'death', 'event', 'duration', 'T',\n",
       "       'Start_Latitude', 'Start_Longitude', 'End_Latitude', 'End_Longitude',\n",
       "       'midpoint_Latitude', 'midpoint_Longitude', 'weather_station', 'Sum'],\n",
       "      dtype='object')"
      ]
     },
     "execution_count": 4,
     "metadata": {},
     "output_type": "execute_result"
    }
   ],
   "source": [
    "df.columns"
   ]
  },
  {
   "cell_type": "code",
   "execution_count": 5,
   "metadata": {},
   "outputs": [
    {
     "data": {
      "text/plain": [
       "array(['Track', 'P&C', 'S&T', 'E&P'], dtype=object)"
      ]
     },
     "execution_count": 5,
     "metadata": {},
     "output_type": "execute_result"
    }
   ],
   "source": [
    "df['High_Level_Asset_Class'].unique()"
   ]
  },
  {
   "cell_type": "code",
   "execution_count": 6,
   "metadata": {},
   "outputs": [
    {
     "data": {
      "text/plain": [
       "array(['Track', 'Level Crossings', 'Points', 'Signalling', 'Telecoms',\n",
       "       'OLE', 'E&P', 'Structures', 'Fences and Barriers'], dtype=object)"
      ]
     },
     "execution_count": 6,
     "metadata": {},
     "output_type": "execute_result"
    }
   ],
   "source": [
    "df['Asset_Class_Grouping'].unique()"
   ]
  },
  {
   "cell_type": "code",
   "execution_count": 7,
   "metadata": {},
   "outputs": [],
   "source": [
    "#create the sub_dataset\n",
    "df_Track=df[df['High_Level_Asset_Class']=='Track']\n",
    "df_P_and_C=df[df['High_Level_Asset_Class']=='P&C']\n",
    "df_S_and_T=df[df['High_Level_Asset_Class']=='S&T']\n",
    "df_E_and_P=df[df['High_Level_Asset_Class']=='E&P']"
   ]
  },
  {
   "cell_type": "code",
   "execution_count": 8,
   "metadata": {},
   "outputs": [],
   "source": [
    "sub_dt=[df_Track, df_P_and_C, df_S_and_T, df_E_and_P]"
   ]
  },
  {
   "cell_type": "code",
   "execution_count": 19,
   "metadata": {},
   "outputs": [],
   "source": [
    "sub_dt_n=['Track', 'P&C', 'S&T', 'E&P']"
   ]
  },
  {
   "cell_type": "code",
   "execution_count": 13,
   "metadata": {},
   "outputs": [],
   "source": [
    "def get_df_name(df):\n",
    "    name =[x for x in globals() if globals()[x] is df][0]\n",
    "    return name"
   ]
  },
  {
   "cell_type": "code",
   "execution_count": 14,
   "metadata": {},
   "outputs": [
    {
     "data": {
      "text/plain": [
       "'df_Track'"
      ]
     },
     "execution_count": 14,
     "metadata": {},
     "output_type": "execute_result"
    }
   ],
   "source": [
    "get_df_name(df_Track)"
   ]
  },
  {
   "cell_type": "code",
   "execution_count": 21,
   "metadata": {},
   "outputs": [],
   "source": [
    "asset_dic={}"
   ]
  },
  {
   "cell_type": "code",
   "execution_count": 40,
   "metadata": {},
   "outputs": [],
   "source": [
    "asset_dic={}\n",
    "for i in range(0, len(sub_dt)):\n",
    "    namedt=get_df_name(sub_dt[i])\n",
    "    asset_dic[sub_dt_n[i]]={}\n",
    "    asset_dic[sub_dt_n[i]]['Asset_Class_Grouping']=sub_dt[i]['Asset_Class_Grouping'].unique()\n",
    "    asset_dic[sub_dt_n[i]]['Grouping_Full_Name']=sub_dt[i]['Grouping_Full_Name'].unique()\n",
    "    asset_dic[sub_dt_n[i]]['Engineering_Suffix']=sub_dt[i]['Engineering_Suffix'].unique()\n",
    "    asset_dic[sub_dt_n[i]]['System_Asset_Type']=sub_dt[i]['System_Asset_Type'].unique()\n",
    "    asset_dic[sub_dt_n[i]]['EQUIP_CLASS_DESC']=sub_dt[i]['EQUIP_CLASS_DESC'].unique()\n",
    "    \n"
   ]
  },
  {
   "cell_type": "code",
   "execution_count": 41,
   "metadata": {},
   "outputs": [
    {
     "data": {
      "text/plain": [
       "{'Track': {'Asset_Class_Grouping': array(['Track', 'Structures', 'Fences and Barriers'], dtype=object),\n",
       "  'Grouping_Full_Name': array(['Track', 'Not Applicable', 'Structures', 'Fences and Barriers'],\n",
       "        dtype=object),\n",
       "  'Engineering_Suffix': array(['TRACK (P.W)', 'LEVEL CROSSING EQUIPMENT', 'TRACK CIRCUIT',\n",
       "         'POINTS (S&C)', 'OLE ELECTRICAL SECTION', 'TRAIN WARNING SYSTEM',\n",
       "         'LINESIDE SIGNALLING CABLE', 'PANEL / FRAME',\n",
       "         'POINTS (OPERATING EQUIPMENT)', 'SIGNAL', 'BRIDGE', 'TUNNEL',\n",
       "         'BOUNDARY MEASURE', 'ELECTRICAL SUPPLY POINT'], dtype=object),\n",
       "  'System_Asset_Type': array(['TRACK', 'LX - BOOM GATES', 'TRACK CCT -DC LOW VOLT PLAIN',\n",
       "         'S&C - TURNOUT', 'OLE ELECTRICAL SECTION',\n",
       "         'LX - MANNED CONTROLLED BARRIERS', 'TPWS - OSS & TSS',\n",
       "         'CABLE MULTICORE - SIGNAL (VIRTL)', 'SIGCONT&INDEQ - NX PANEL',\n",
       "         'LX - USER WORKED XING WITH MWL', 'TPWS - OSS',\n",
       "         'POE - HYDRAULIC/PNEUMATIC', 'SIGNAL HEAD -  CONV LED - 1 MOD',\n",
       "         'LX - MCB WITH OBSTACLE DETECTION',\n",
       "         'LX - AHB - NOT LOCALLY MONITORED',\n",
       "         'TRACK CCT -DC MV AC IMM DC TOL', 'TRACK CCT -ASTER SF15 / U TYPE',\n",
       "         'UNDERBR - NON-VIADUCT', 'S&C - CATCH POINT.',\n",
       "         'OVERBR - NON-VIADUCT', 'TUNNEL BORE', 'UNDERBR - MOVING SWING',\n",
       "         'BOUNDARY UPSIDE', 'BOUNDARY DNSIDE', 'SIGNAL HEAD - 4 ASPECT',\n",
       "         'ELECTRICITY SUPPLY POINT'], dtype=object),\n",
       "  'EQUIP_CLASS_DESC': array(['Track ID                                          ',\n",
       "         'End Stop                                          ',\n",
       "         'S&C Unit                                          ',\n",
       "         'Underbridge                                       ',\n",
       "         'Overbridge                                        ',\n",
       "         'Tunnel Bore                                       ',\n",
       "         'BOUNDARY SIDE                                     '], dtype=object)},\n",
       " 'P&C': {'Asset_Class_Grouping': array(['Level Crossings', 'Points'], dtype=object),\n",
       "  'Grouping_Full_Name': array(['Level Crossings', 'Not Applicable', 'Points', 'Signalling',\n",
       "         'Fences and Barriers'], dtype=object),\n",
       "  'Engineering_Suffix': array(['LEVEL CROSSING EQUIPMENT', 'POINTS (S&C)',\n",
       "         'POINTS (OPERATING EQUIPMENT)', 'SIGNAL', 'TRACK CIRCUIT',\n",
       "         'BLOCK / TOKEN SYSTEMS', 'OLE STRUCTURE', 'PANEL / FRAME',\n",
       "         'TRACK (P.W)', 'TRAIN READY TO START (TRTS) SYS', 'AXLE COUNTER'],\n",
       "        dtype=object),\n",
       "  'System_Asset_Type': array(['LX - CCTV MONITORED BARRIERS', 'LX - MCB WITH OBSTACLE DETECTION',\n",
       "         'S&C - TURNOUT', 'POE - HYDRAULIC/PNEUMATIC',\n",
       "         'POE - POINT MACHINE', 'POE - MECHANICAL',\n",
       "         'SIGNAL HEAD - 4 ASPECT', 'TRACK CCT -DC LOW VOLT PLAIN',\n",
       "         'BLOCK APPARATUS', 'OLE STRUCT - PORTAL ANCHOR',\n",
       "         'SIGNAL CONTROL - SWITCH', 'TRACK',\n",
       "         'LX - MANNED CONTROLLED BARRIERS',\n",
       "         'LX - USER WORKED XING WITH MWL',\n",
       "         'TRAIN READY TO START (TRTS) SYS', 'POE - HPSS',\n",
       "         'AXLE CNTER FRAUSCHER WHEEL DETR'], dtype=object),\n",
       "  'EQUIP_CLASS_DESC': array(['Level Crossing                                    ',\n",
       "         'Access Point                                      ',\n",
       "         'Point Operating Equipment                         ',\n",
       "         'TC - High Freq                                    ',\n",
       "         'Mechanical Lever Equipment                        ',\n",
       "         'Route Ind Jcn                                     ',\n",
       "         'Sig - Colour                                      ',\n",
       "         'Signalling Cable                                  ',\n",
       "         'BOUNDARY SIDE                                     '], dtype=object)},\n",
       " 'S&T': {'Asset_Class_Grouping': array(['Signalling', 'Telecoms'], dtype=object),\n",
       "  'Grouping_Full_Name': array(['Not Applicable', 'Telecoms', 'Signalling', nan], dtype=object),\n",
       "  'Engineering_Suffix': array(['SIGNAL', 'BLOCK / TOKEN SYSTEMS', 'TELEPHONE - SPT',\n",
       "         'OLE ELECTRICAL SECTION', 'TRAIN DESCRIBER', 'TRACK CIRCUIT',\n",
       "         'REMOTE CONTROL SYSTEM', 'LOCATION CASE',\n",
       "         'ELECTRICAL SUPPLY POINT', 'TRAIN WARNING SYSTEM', 'TRACK (P.W)',\n",
       "         'TRANSMISSION - NON FTN', 'TELEPHONE - CROSSING',\n",
       "         'POINTS (OPERATING EQUIPMENT)', 'POINTS (S&C)',\n",
       "         'SOLID STATE INTERLOCKING', 'BOUNDARY MEASURE',\n",
       "         'LEVEL CROSSING EQUIPMENT', 'LINESIDE SIGNALLING CABLE',\n",
       "         'PANEL / FRAME', 'SIGNAL BOX / RELAY ROOM', 'INTERLOCKING',\n",
       "         'TRAIN READY TO START (TRTS) SYS', 'AXLE COUNTER',\n",
       "         'HOT BOX DETECTOR', 'RADIO - COVERAGE / MOBILE'], dtype=object),\n",
       "  'System_Asset_Type': array(['SIGNAL HEAD -  CONV LED - 1 MOD', 'BLOCK APPARATUS',\n",
       "         'TEL, SPT, CB', 'OLE ELECTRICAL SECTION',\n",
       "         'TD - GEC MICROPROCESSOR', 'TRACK CCT -TI21',\n",
       "         'SIGNAL HEAD - LED LIGHT ENGINE', 'SIGNAL HEAD - 4 ASPECT',\n",
       "         'TRACK CCT -DC MED VOLT AC IMMUNE',\n",
       "         'TRACK CCT -DC LOW VOLT AC IMMUNE', 'RC TDM LCL END WESTRONIC S2',\n",
       "         'EQUIP HOUSING / LOCATION CASE', 'PRINCIPAL SUPPLY POINT - 650V',\n",
       "         'SIGNAL HEAD -  CONV LED - 2 MOD',\n",
       "         'SIGNAL HEAD -  CONV LED - 4 MOD', 'SIGNAL - POS LIGHT 2 ASPECT',\n",
       "         'TRACK CCT -DC MV AC IMM DC TOL', 'TRACK CCT -DC LOW VOLT PLAIN',\n",
       "         'TRACK CCT -ASTER SF15 / U TYPE', 'TPWS - OSS & TSS', 'TPWS - TSS',\n",
       "         'ROUTE IND FEATHER LED - 1 ROUTE', 'ROUTE IND FEATHER - 1 ROUTE',\n",
       "         'RC DCT WIRE LCL END MICRO', 'SEMAPHORE STOP - MECH ELECT LIT',\n",
       "         'TPWS - OSS', 'RC TDM LCL END OTHER', 'SIGNAL HEAD - 3 ASPECT',\n",
       "         'TRACK', 'TX EQPT, MUX (NON FTN)', 'SIGNAL HEAD - 2 ASPECT',\n",
       "         'TEL, CONTROLLED XING, CB', 'POE - POINT MACHINE', 'S&C - TURNOUT',\n",
       "         'SOLID STATE INTER - TFM - SIGNAL', 'BOUNDARY UPSIDE',\n",
       "         'AWS - AUTOMATIC WARNING SYSTEM', 'LX - FOOTPATH XING',\n",
       "         'CABLE MULTICORE - SIGNAL (VIRTL)',\n",
       "         'TRACK CCT -IMPULSE GEC ALSTOM', 'TRACK CCT -REED - JOINTED',\n",
       "         'BOUNDARY DNSIDE', 'SIGCONT&INDEQ - LEVER F RSCO',\n",
       "         'RELAY ROOM (FABRIC)', 'SIGCONT&INDEQ - ELECT MECH',\n",
       "         'INTERLOCKING - RELAY - GEOG', 'TRAIN READY TO START (TRTS) SYS',\n",
       "         'SIGCONT&INDEQ - NX PANEL', 'INTERLOCKING - RELAY - NON-GEOG',\n",
       "         'ELECT ROUTE SETTING EQUIP (ERSE)', 'TRACK CCT -DC MED VOLT PLAIN',\n",
       "         'TD - WESTINGHOUSE VME', 'TD - WBS SMALL BUS',\n",
       "         'AXLE COUNTER SEL AZL 70/30', 'SIGCONT&INDEQ - LEVER F STAND',\n",
       "         'TPWS PLUS - TSS & OSS', 'SIGNAL - POS LIGHT 3 ASPECT',\n",
       "         'SOLID STATE INTER - DATA LNK MOD', 'TEL, UNCONTROLLED XING, CB',\n",
       "         'WESTCAD CONTROL SYSTEM', 'LX - CCTV MONITORED BARRIERS',\n",
       "         'LX - MANNED CONTROLLED BARRIERS',\n",
       "         'SOLID STATE INTER - TFM - POINTS',\n",
       "         'ROUTE IND THEATRE F OPT 7 ROUTE', 'ROUTE IND THEATRE NON F OPTIC',\n",
       "         'CABLE POWER - SIGNAL  (VIRTL)', 'EL SUP PT, METERED, DNO, IN CAB',\n",
       "         'TRACK CCT -TI21 DIGITAL', 'OFF INDICATOR - STENCIL LED',\n",
       "         'HABD / PHEONIX - SYSTEM', 'BENDER UNIT - REMOTELY MONITORED',\n",
       "         'AXLE CNTER FRAUSCHER WHEEL DETR', 'ROUTE IND STENCIL - 3 ROUTE',\n",
       "         'FUNCTIONAL SUPPLY POINT - 650V', 'RADIO, MOBILE GSM-R',\n",
       "         'RADIO, COVERAGE, GSM-R', 'C/L LIGHT LED DORMAN INTERGRATED',\n",
       "         'TRACK CCT -EBI 400 DBL RAIL APP', 'RA/CD INDICATOR - STENCIL LED'],\n",
       "        dtype=object),\n",
       "  'EQUIP_CLASS_DESC': array(['Access Point                                      ',\n",
       "         'Telephones-LS                                     ',\n",
       "         'Train Describer                                   ',\n",
       "         'TC - High Freq                                    ',\n",
       "         'Sig - Colour                                      ',\n",
       "         'TC - DC                                           ',\n",
       "         'RCS - TDM                                         ',\n",
       "         'App Housing                                       ',\n",
       "         'Signalling Supply                                 ',\n",
       "         'Sig - Pos Light                                   ',\n",
       "         'TPWS                                              ',\n",
       "         'Route Ind Jcn                                     ',\n",
       "         'RCS - Direct                                      ',\n",
       "         'Sig - Semaphore                                   ',\n",
       "         'AWS                                               ',\n",
       "         'TC - Impulse                                      ',\n",
       "         'Mechanical Lever Equipment                        ',\n",
       "         'Building                                          ',\n",
       "         'Sigcont Elecmec                                   ',\n",
       "         'Platform Indic                                    ',\n",
       "         'Sigcont NX                                        ',\n",
       "         'SIGCONT                                           ',\n",
       "         'Axle Counter                                      ',\n",
       "         'Signalling Cable                                  ',\n",
       "         'Intlok SS                                         ',\n",
       "         'Route Ind Thr                                     ',\n",
       "         'HABD                                              ',\n",
       "         'Telemetry                                         ',\n",
       "         'Intlok Relay                                      ',\n",
       "         'Route Ind Sten                                    ',\n",
       "         'Intlok Relay NG                                   ',\n",
       "         'Virtual Telecoms Assets                           '], dtype=object)},\n",
       " 'E&P': {'Asset_Class_Grouping': array(['OLE', 'E&P'], dtype=object),\n",
       "  'Grouping_Full_Name': array(['OLE', 'E&P', 'Fences and Barriers'], dtype=object),\n",
       "  'Engineering_Suffix': array(['OLE STRUCTURE', 'GENERATOR / SHORE SUPPLY',\n",
       "         'LEVEL CROSSING LIGHTING', 'SIGNAL', 'TRACK CIRCUIT',\n",
       "         'ELECTRICAL SUPPLY POINT', 'OLE ELECTRICAL SECTION',\n",
       "         'POINTS (OPERATING EQUIPMENT)', 'LEVEL CROSSING EQUIPMENT',\n",
       "         'POINTS (S&C)', 'SOLID STATE INTERLOCKING', 'TRACK (P.W)'],\n",
       "        dtype=object),\n",
       "  'System_Asset_Type': array(['OLE STRUCT -  CANTILEVER', 'OLE STRUCT - HEADSPAN ANCHOR',\n",
       "         'DIESEL GENERATOR SET - 650V', 'OLE STRUCT - PORTAL ANCHOR',\n",
       "         'OLE STRUCT - PORTAL', 'OLE STRUCT -  CANTILEVER ANCHOR',\n",
       "         'LIGHTING SYSTEM - LEVEL CROSSING', 'SIGNAL HEAD - 3 ASPECT',\n",
       "         'SIGNAL HEAD - 2 ASPECT', 'TRACK CCT -DC MED VOLT AC IMMUNE',\n",
       "         'ELECTRICITY SUPPLY POINT', 'OLE STRUCT - MAST',\n",
       "         'OLE STRUCT - HEADSPAN', 'OLE ELECTRICAL SECTION',\n",
       "         'POE - POINT MACHINE', 'LX . AOCL + BARRIERS', 'S&C - TURNOUT',\n",
       "         'SOLID STATE INTER - TFM - SIGNAL', 'TRACK',\n",
       "         'TRACK CCT -ASTER SF15 / U TYPE',\n",
       "         'SIGNAL HEAD -  CONV LED - 3 MOD',\n",
       "         'EL SUP PT, METERED, DNO, IN CAB'], dtype=object),\n",
       "  'EQUIP_CLASS_DESC': array(['UI - OLE Structure                                ',\n",
       "         'Diesel Alternator Set                             ',\n",
       "         'Light InstalSys                                   ',\n",
       "         'BOUNDARY SIDE                                     ',\n",
       "         'PV - Electricity Supply Point                     ',\n",
       "         'KE - Electrical Section                           '], dtype=object)}}"
      ]
     },
     "execution_count": 41,
     "metadata": {},
     "output_type": "execute_result"
    }
   ],
   "source": [
    "asset_dic"
   ]
  },
  {
   "cell_type": "code",
   "execution_count": 42,
   "metadata": {},
   "outputs": [
    {
     "data": {
      "text/plain": [
       "dict_keys(['Track', 'P&C', 'S&T', 'E&P'])"
      ]
     },
     "execution_count": 42,
     "metadata": {},
     "output_type": "execute_result"
    }
   ],
   "source": [
    "asset_dic.keys()"
   ]
  },
  {
   "cell_type": "code",
   "execution_count": 43,
   "metadata": {},
   "outputs": [
    {
     "data": {
      "text/plain": [
       "{'Asset_Class_Grouping': array(['Track', 'Structures', 'Fences and Barriers'], dtype=object),\n",
       " 'Grouping_Full_Name': array(['Track', 'Not Applicable', 'Structures', 'Fences and Barriers'],\n",
       "       dtype=object),\n",
       " 'Engineering_Suffix': array(['TRACK (P.W)', 'LEVEL CROSSING EQUIPMENT', 'TRACK CIRCUIT',\n",
       "        'POINTS (S&C)', 'OLE ELECTRICAL SECTION', 'TRAIN WARNING SYSTEM',\n",
       "        'LINESIDE SIGNALLING CABLE', 'PANEL / FRAME',\n",
       "        'POINTS (OPERATING EQUIPMENT)', 'SIGNAL', 'BRIDGE', 'TUNNEL',\n",
       "        'BOUNDARY MEASURE', 'ELECTRICAL SUPPLY POINT'], dtype=object),\n",
       " 'System_Asset_Type': array(['TRACK', 'LX - BOOM GATES', 'TRACK CCT -DC LOW VOLT PLAIN',\n",
       "        'S&C - TURNOUT', 'OLE ELECTRICAL SECTION',\n",
       "        'LX - MANNED CONTROLLED BARRIERS', 'TPWS - OSS & TSS',\n",
       "        'CABLE MULTICORE - SIGNAL (VIRTL)', 'SIGCONT&INDEQ - NX PANEL',\n",
       "        'LX - USER WORKED XING WITH MWL', 'TPWS - OSS',\n",
       "        'POE - HYDRAULIC/PNEUMATIC', 'SIGNAL HEAD -  CONV LED - 1 MOD',\n",
       "        'LX - MCB WITH OBSTACLE DETECTION',\n",
       "        'LX - AHB - NOT LOCALLY MONITORED',\n",
       "        'TRACK CCT -DC MV AC IMM DC TOL', 'TRACK CCT -ASTER SF15 / U TYPE',\n",
       "        'UNDERBR - NON-VIADUCT', 'S&C - CATCH POINT.',\n",
       "        'OVERBR - NON-VIADUCT', 'TUNNEL BORE', 'UNDERBR - MOVING SWING',\n",
       "        'BOUNDARY UPSIDE', 'BOUNDARY DNSIDE', 'SIGNAL HEAD - 4 ASPECT',\n",
       "        'ELECTRICITY SUPPLY POINT'], dtype=object),\n",
       " 'EQUIP_CLASS_DESC': array(['Track ID                                          ',\n",
       "        'End Stop                                          ',\n",
       "        'S&C Unit                                          ',\n",
       "        'Underbridge                                       ',\n",
       "        'Overbridge                                        ',\n",
       "        'Tunnel Bore                                       ',\n",
       "        'BOUNDARY SIDE                                     '], dtype=object)}"
      ]
     },
     "execution_count": 43,
     "metadata": {},
     "output_type": "execute_result"
    }
   ],
   "source": [
    "asset_dic['Track']"
   ]
  },
  {
   "cell_type": "code",
   "execution_count": 46,
   "metadata": {},
   "outputs": [],
   "source": [
    "assets_dicc={}\n",
    "# Populate Birth and Death columns based on failure and repair date\n",
    "for i in range (0,len(df)):\n",
    "    assets_dicc[str(df.loc[i,'Asset_Number'])]={}\n",
    "    assets_dicc[str(df.loc[i,'Asset_Number'])]['High_Level_Asset_Class']=df.loc[i,'High_Level_Asset_Class']\n",
    "    assets_dicc[str(df.loc[i,'Asset_Number'])]['Asset_Class_Grouping']=df.loc[i,'Asset_Class_Grouping']\n",
    "    assets_dicc[str(df.loc[i,'Asset_Number'])]['Grouping_Full_Name']=df.loc[i,'Grouping_Full_Name']\n",
    "    assets_dicc[str(df.loc[i,'Asset_Number'])]['Engineering_Suffix']=df.loc[i,'Engineering_Suffix']\n",
    "    assets_dicc[str(df.loc[i,'Asset_Number'])]['System_Asset_Type']=df.loc[i,'System_Asset_Type']\n",
    "    assets_dicc[str(df.loc[i,'Asset_Number'])]['EQUIP_CLASS_DESC']=df.loc[i,'EQUIP_CLASS_DESC']"
   ]
  },
  {
   "cell_type": "code",
   "execution_count": 80,
   "metadata": {},
   "outputs": [],
   "source": [
    "list_of=list(assets_dicc.keys())"
   ]
  },
  {
   "cell_type": "code",
   "execution_count": 109,
   "metadata": {},
   "outputs": [],
   "source": [
    "def apply_highLevel(x, dicc):\n",
    "    if str(x['Asset_Number']) in list(dicc.keys()):\n",
    "        return dicc[x.Asset_Number]['High_Level_Asset_Class']\n",
    "    else:\n",
    "        return 'None'"
   ]
  },
  {
   "cell_type": "code",
   "execution_count": 110,
   "metadata": {},
   "outputs": [],
   "source": [
    "def apply_class_group(x, dicc):\n",
    "    if str(x['Asset_Number']) in list(dicc.keys()):\n",
    "        return dicc[x.Asset_Number]['Asset_Class_Grouping']\n",
    "    else:\n",
    "        return 'None'"
   ]
  },
  {
   "cell_type": "code",
   "execution_count": 174,
   "metadata": {},
   "outputs": [],
   "source": [
    "df_none= pd.read_csv('cox_without.csv', index_col=0)"
   ]
  },
  {
   "cell_type": "code",
   "execution_count": 175,
   "metadata": {},
   "outputs": [],
   "source": [
    "df_none['Asset_Number']=df_none['Asset_Number'].astype(str)"
   ]
  },
  {
   "cell_type": "code",
   "execution_count": 176,
   "metadata": {},
   "outputs": [],
   "source": [
    "df_none['High_Level_Asset_Class']= df_none.apply(lambda row: apply_highLevel(row,assets_dicc ), axis=1)\n",
    "df_none['Asset_Class_Grouping']= df_none.apply(lambda row: apply_class_group(row,assets_dicc ), axis=1)"
   ]
  },
  {
   "cell_type": "code",
   "execution_count": 177,
   "metadata": {},
   "outputs": [
    {
     "data": {
      "text/plain": [
       "array(['Track', 'None', 'P&C', 'S&T', 'E&P'], dtype=object)"
      ]
     },
     "execution_count": 177,
     "metadata": {},
     "output_type": "execute_result"
    }
   ],
   "source": [
    "df_none['High_Level_Asset_Class'].unique()"
   ]
  },
  {
   "cell_type": "code",
   "execution_count": 178,
   "metadata": {},
   "outputs": [
    {
     "data": {
      "text/plain": [
       "array(['Track', 'None', 'Level Crossings', 'Points', 'Signalling',\n",
       "       'Telecoms', 'OLE', 'E&P', 'Structures', 'Fences and Barriers'],\n",
       "      dtype=object)"
      ]
     },
     "execution_count": 178,
     "metadata": {},
     "output_type": "execute_result"
    }
   ],
   "source": [
    "df_none['Asset_Class_Grouping'].unique()"
   ]
  },
  {
   "cell_type": "code",
   "execution_count": 179,
   "metadata": {},
   "outputs": [
    {
     "data": {
      "text/plain": [
       "0"
      ]
     },
     "execution_count": 179,
     "metadata": {},
     "output_type": "execute_result"
    }
   ],
   "source": [
    "df_none['High_Level_Asset_Class'].isna().sum()"
   ]
  },
  {
   "cell_type": "code",
   "execution_count": 180,
   "metadata": {},
   "outputs": [],
   "source": [
    "def assign_class(dt):\n",
    "    \n",
    "    for i in range(0, len(dt)):\n",
    "        # full first at all with all coincidences\n",
    "        if dt.loc[i, 'High_Level_Asset_Class'] == 'None':\n",
    "            df_temp= dt[(dt['Grouping_Full_Name'] ==dt.loc[i, 'Grouping_Full_Name']) &\n",
    "                        (dt['Engineering_Suffix'] ==dt.loc[i, 'Engineering_Suffix']) &\n",
    "                        (dt['System_Asset_Type'] ==dt.loc[i, 'System_Asset_Type']) &\n",
    "                        (dt['EQUIP_CLASS_DESC'] ==dt.loc[i, 'EQUIP_CLASS_DESC'])]\n",
    "            if len(df_temp)>0:\n",
    "                HIAsset_class=df_temp['High_Level_Asset_Class'].unique()\n",
    "                dt.loc[i, 'High_Level_Asset_Class']=HIAsset_class[0]\n",
    "\n",
    "        if dt.loc[i, 'Asset_Class_Grouping'] == 'None':\n",
    "            df_temp= dt[(dt['Grouping_Full_Name'] ==dt.loc[i, 'Grouping_Full_Name']) &\n",
    "                        (dt['Engineering_Suffix'] ==dt.loc[i, 'Engineering_Suffix']) &\n",
    "                        (dt['System_Asset_Type'] ==dt.loc[i, 'System_Asset_Type']) &\n",
    "                        (dt['EQUIP_CLASS_DESC'] ==dt.loc[i, 'EQUIP_CLASS_DESC'])]\n",
    "            if len(df_temp)>0:\n",
    "                Asset_class=df_temp['Asset_Class_Grouping'].unique()\n",
    "                dt.loc[i, 'Asset_Class_Grouping']=Asset_class[0]\n",
    "\n",
    "    for i in range(0, len(dt)):\n",
    "        # then 3 of the classes\n",
    "        if dt.loc[i, 'High_Level_Asset_Class'] == 'None':\n",
    "            df_temp= dt[(dt['Grouping_Full_Name'] ==dt.loc[i, 'Grouping_Full_Name']) &\n",
    "                        (dt['Engineering_Suffix'] ==dt.loc[i, 'Engineering_Suffix']) &\n",
    "                        (dt['System_Asset_Type'] ==dt.loc[i, 'System_Asset_Type'])]\n",
    "            if len(df_temp)>0:\n",
    "                HIAsset_class=df_temp['High_Level_Asset_Class'].unique()\n",
    "                dt.loc[i, 'High_Level_Asset_Class']=HIAsset_class[0]\n",
    "\n",
    "        if dt.loc[i, 'Asset_Class_Grouping'] == 'None':\n",
    "            df_temp= dt[(dt['Grouping_Full_Name'] ==dt.loc[i, 'Grouping_Full_Name']) &\n",
    "                        (dt['Engineering_Suffix'] ==dt.loc[i, 'Engineering_Suffix']) &\n",
    "                        (dt['System_Asset_Type'] ==dt.loc[i, 'System_Asset_Type'])]\n",
    "            if len(df_temp)>0:\n",
    "                Asset_class=df_temp['Asset_Class_Grouping'].unique()\n",
    "                dt.loc[i, 'Asset_Class_Grouping']=Asset_class[0]\n",
    "\n",
    "    for i in range(0, len(dt)):\n",
    "        # then 2 of the classes\n",
    "        if dt.loc[i, 'High_Level_Asset_Class'] == 'None':\n",
    "            df_temp= dt[(dt['Grouping_Full_Name'] ==dt.loc[i, 'Grouping_Full_Name']) &\n",
    "                        (dt['Engineering_Suffix'] ==dt.loc[i, 'Engineering_Suffix']) ]\n",
    "            if len(df_temp)>0:\n",
    "                HIAsset_class=df_temp['High_Level_Asset_Class'].unique()\n",
    "                dt.loc[i, 'High_Level_Asset_Class']=HIAsset_class[0]\n",
    "\n",
    "        if dt.loc[i, 'Asset_Class_Grouping'] == 'None':\n",
    "            df_temp= dt[(dt['Grouping_Full_Name'] ==dt.loc[i, 'Grouping_Full_Name']) &\n",
    "                        (dt['Engineering_Suffix'] ==dt.loc[i, 'Engineering_Suffix']) ]\n",
    "            if len(df_temp)>0:\n",
    "                Asset_class=df_temp['Asset_Class_Grouping'].unique()\n",
    "                dt.loc[i, 'Asset_Class_Grouping']=Asset_class[0]\n",
    "\n",
    "    for i in range(0, len(dt)):\n",
    "        # then only Group Full Name\n",
    "        if dt.loc[i, 'High_Level_Asset_Class'] == 'None':\n",
    "            df_temp= dt[(dt['Grouping_Full_Name'] ==dt.loc[i, 'Grouping_Full_Name']) ]\n",
    "            if len(df_temp)>0:\n",
    "                HIAsset_class=df_temp['High_Level_Asset_Class'].unique()\n",
    "                dt.loc[i, 'High_Level_Asset_Class']=HIAsset_class[0]\n",
    "\n",
    "        if dt.loc[i, 'Asset_Class_Grouping'] == 'None':\n",
    "            df_temp= dt[(dt['Grouping_Full_Name'] ==dt.loc[i, 'Grouping_Full_Name'])  ]\n",
    "            if len(df_temp)>0:\n",
    "                Asset_class=df_temp['Asset_Class_Grouping'].unique()\n",
    "                dt.loc[i, 'Asset_Class_Grouping']=Asset_class[0]\n",
    "\n",
    "    for i in range(0, len(dt)):\n",
    "        # If not any of the classes\n",
    "        if dt.loc[i, 'High_Level_Asset_Class'] == 'None':\n",
    "            df_temp= dt[(dt['Grouping_Full_Name'] ==dt.loc[i, 'Grouping_Full_Name']) |\n",
    "                        (dt['Engineering_Suffix'] ==dt.loc[i, 'Engineering_Suffix']) |\n",
    "                        (dt['System_Asset_Type'] ==dt.loc[i, 'System_Asset_Type']) |\n",
    "                        (dt['EQUIP_CLASS_DESC'] ==dt.loc[i, 'EQUIP_CLASS_DESC'])]\n",
    "            if len(df_temp)>0:\n",
    "                HIAsset_class=df_temp['High_Level_Asset_Class'].unique()\n",
    "                dt.loc[i, 'High_Level_Asset_Class']=HIAsset_class[0]\n",
    "\n",
    "        if dt.loc[i, 'Asset_Class_Grouping'] == 'None':\n",
    "            df_temp= dt[(dt['Grouping_Full_Name'] ==dt.loc[i, 'Grouping_Full_Name']) |\n",
    "                        (dt['Engineering_Suffix'] ==dt.loc[i, 'Engineering_Suffix']) |\n",
    "                        (dt['System_Asset_Type'] ==dt.loc[i, 'System_Asset_Type']) |\n",
    "                        (dt['EQUIP_CLASS_DESC'] ==dt.loc[i, 'EQUIP_CLASS_DESC'])]\n",
    "            if len(df_temp)>0:\n",
    "                Asset_class=df_temp['Asset_Class_Grouping'].unique()\n",
    "                dt.loc[i, 'Asset_Class_Grouping']=Asset_class[0]\n",
    "\n",
    "    # if after all if still None we assign Track\n",
    "    for i in range(0, len(dt)):\n",
    "        if dt.loc[i, 'High_Level_Asset_Class'] == 'None':\n",
    "            dt.loc[i, 'High_Level_Asset_Class'] == 'Track'\n",
    "        if dt.loc[i, 'Asset_Class_Grouping'] == 'None':\n",
    "            dt.loc[i, 'Asset_Class_Grouping']= 'Track'\n",
    "        \n",
    "    return dt\n",
    "    "
   ]
  },
  {
   "cell_type": "code",
   "execution_count": 181,
   "metadata": {},
   "outputs": [],
   "source": [
    "df_nonex=assign_class(df_none)"
   ]
  },
  {
   "cell_type": "code",
   "execution_count": 182,
   "metadata": {},
   "outputs": [
    {
     "data": {
      "text/plain": [
       "0"
      ]
     },
     "execution_count": 182,
     "metadata": {},
     "output_type": "execute_result"
    }
   ],
   "source": [
    "len(df_nonex[df_nonex['Asset_Class_Grouping']=='None'])"
   ]
  },
  {
   "cell_type": "code",
   "execution_count": 183,
   "metadata": {},
   "outputs": [
    {
     "data": {
      "text/plain": [
       "0"
      ]
     },
     "execution_count": 183,
     "metadata": {},
     "output_type": "execute_result"
    }
   ],
   "source": [
    "len(df_nonex[df_nonex['High_Level_Asset_Class']=='None'])"
   ]
  },
  {
   "cell_type": "code",
   "execution_count": 171,
   "metadata": {},
   "outputs": [],
   "source": [
    "import pickle"
   ]
  },
  {
   "cell_type": "code",
   "execution_count": 170,
   "metadata": {},
   "outputs": [],
   "source": [
    "def save_dict_pickle(dict, file):\n",
    "    with open(file+'.pickle', 'wb') as handle:\n",
    "        pickle.dump(dict, handle, protocol=pickle.HIGHEST_PROTOCOL)\n",
    "    return"
   ]
  },
  {
   "cell_type": "code",
   "execution_count": 172,
   "metadata": {},
   "outputs": [],
   "source": [
    "save_dict_pickle(assets_dicc, 'assets_dicc')"
   ]
  },
  {
   "cell_type": "code",
   "execution_count": 184,
   "metadata": {},
   "outputs": [],
   "source": [
    "df_nonex.to_csv('df_cox_master_J.csv')"
   ]
  },
  {
   "cell_type": "code",
   "execution_count": null,
   "metadata": {},
   "outputs": [],
   "source": []
  }
 ],
 "metadata": {
  "kernelspec": {
   "display_name": "Python 3",
   "language": "python",
   "name": "python3"
  },
  "language_info": {
   "codemirror_mode": {
    "name": "ipython",
    "version": 3
   },
   "file_extension": ".py",
   "mimetype": "text/x-python",
   "name": "python",
   "nbconvert_exporter": "python",
   "pygments_lexer": "ipython3",
   "version": "3.6.8"
  }
 },
 "nbformat": 4,
 "nbformat_minor": 2
}
